{
  "nbformat": 4,
  "nbformat_minor": 0,
  "metadata": {
    "colab": {
      "provenance": [],
      "authorship_tag": "ABX9TyO678fvC7KTHgkCEZmb5ZGc",
      "include_colab_link": true
    },
    "kernelspec": {
      "name": "python3",
      "display_name": "Python 3"
    },
    "language_info": {
      "name": "python"
    }
  },
  "cells": [
    {
      "cell_type": "markdown",
      "metadata": {
        "id": "view-in-github",
        "colab_type": "text"
      },
      "source": [
        "<a href=\"https://colab.research.google.com/github/sohilvhora0/Assignment-Python-Data-Structure/blob/main/Numpy_Assignemnt.ipynb\" target=\"_parent\"><img src=\"https://colab.research.google.com/assets/colab-badge.svg\" alt=\"Open In Colab\"/></a>"
      ]
    },
    {
      "cell_type": "code",
      "source": [
        "#1. Create a NumPy array 'arr' of integers from 0 to 5 and print its data type.\n",
        "\n",
        "import numpy as np\n",
        "arr=np.arange(0,5)\n",
        "print(arr)\n",
        "print(type(arr))"
      ],
      "metadata": {
        "colab": {
          "base_uri": "https://localhost:8080/"
        },
        "id": "6O_NemS67YjV",
        "outputId": "f68f592d-a3c3-4ea3-c22e-14f6b664c600"
      },
      "execution_count": 4,
      "outputs": [
        {
          "output_type": "stream",
          "name": "stdout",
          "text": [
            "[0 1 2 3 4]\n",
            "<class 'numpy.ndarray'>\n"
          ]
        }
      ]
    },
    {
      "cell_type": "code",
      "source": [
        "#2. Given a NumPy array 'arr', check if its data type is float64.\n",
        "\n",
        "import numpy as np\n",
        "\n",
        "arr = np.array([1.5, 2.6, 3.7])\n",
        "\n",
        "print(\"data type:\",arr.dtype)\n",
        "print(\"yes its float64\")"
      ],
      "metadata": {
        "colab": {
          "base_uri": "https://localhost:8080/"
        },
        "id": "5MwfujX58EfH",
        "outputId": "85040b54-3b67-49ee-f86d-c126a15cb40d"
      },
      "execution_count": 5,
      "outputs": [
        {
          "output_type": "stream",
          "name": "stdout",
          "text": [
            "data type: float64\n",
            "yes its float64\n"
          ]
        }
      ]
    },
    {
      "cell_type": "code",
      "source": [
        "#3. Create a NumPy array 'arr' with a data type of complex128 containing three complex numbers.\n",
        "\n",
        "import numpy as np\n",
        "arr=np.array([5+6j,7+5j,10+7j])\n",
        "\n",
        "print(\"data type:\",arr.dtype)"
      ],
      "metadata": {
        "colab": {
          "base_uri": "https://localhost:8080/"
        },
        "id": "s6ROAssV8NdE",
        "outputId": "e35fe542-a959-4811-8638-288d176af7ff"
      },
      "execution_count": 6,
      "outputs": [
        {
          "output_type": "stream",
          "name": "stdout",
          "text": [
            "data type: complex128\n"
          ]
        }
      ]
    },
    {
      "cell_type": "code",
      "source": [
        "#4. Convert an existing NumPy array 'arr' of integers to float32 data type.\n",
        "\n",
        "import numpy as np\n",
        "arr=np.array([1,2])\n",
        "\n",
        "float_array=np.array(arr, dtype=np.float32)\n",
        "\n",
        "print(float_array)\n",
        "print(float_array.dtype)"
      ],
      "metadata": {
        "colab": {
          "base_uri": "https://localhost:8080/"
        },
        "id": "zcebuZ5h8NZv",
        "outputId": "a446b19e-17c9-4f5a-8db1-8accba36f810"
      },
      "execution_count": 7,
      "outputs": [
        {
          "output_type": "stream",
          "name": "stdout",
          "text": [
            "[1. 2.]\n",
            "float32\n"
          ]
        }
      ]
    },
    {
      "cell_type": "code",
      "source": [
        "#5.Given a NumPy array 'arr' with float64 data type, convert it to float32 to reduce decimal precision.\n",
        "\n",
        "import numpy as np\n",
        "\n",
        "arr=np.array([1.9,2.7,3.4])\n",
        "\n",
        "print(arr.dtype)\n",
        "\n",
        "reduce=np.array(arr, dtype=np.float32)\n",
        "\n",
        "print(\"after reducing decimal:\",reduce.dtype)"
      ],
      "metadata": {
        "colab": {
          "base_uri": "https://localhost:8080/"
        },
        "id": "FlJAmBa_8NWu",
        "outputId": "d6d0db3b-d713-4fca-fd78-a6c337e064dd"
      },
      "execution_count": 8,
      "outputs": [
        {
          "output_type": "stream",
          "name": "stdout",
          "text": [
            "float64\n",
            "after reducing decimal: float32\n"
          ]
        }
      ]
    },
    {
      "cell_type": "code",
      "source": [
        "#6. Write a function array_attributes that takes a NumPy array as input and returns its shape, size, and datatype.\n",
        "\n",
        "import numpy as np\n",
        "array_att1= np.array([[4,5],[4,3],[4,4]])\n",
        "\n",
        "def array_attributes(array_att1):\n",
        "    a=array_att1.shape\n",
        "    b=array_att1.size\n",
        "    c=array_att1.dtype\n",
        "    return a,b,c\n",
        "\n",
        "print(\"shape , size and data type:\",array_attributes(array_att1))"
      ],
      "metadata": {
        "colab": {
          "base_uri": "https://localhost:8080/"
        },
        "id": "bE6F6SCp8NTm",
        "outputId": "40c9274b-8095-4f86-d3a8-63f75a7caf8d"
      },
      "execution_count": 9,
      "outputs": [
        {
          "output_type": "stream",
          "name": "stdout",
          "text": [
            "shape , size and data type: ((3, 2), 6, dtype('int64'))\n"
          ]
        }
      ]
    },
    {
      "cell_type": "code",
      "source": [
        "#7 Create a function array_dimension that takes a NumPy array as input and returns its dimensionality.\n",
        "\n",
        "import numpy as np\n",
        "\n",
        "arr=np.array([[4,5],[5,6]])\n",
        "\n",
        "def array_dimension(arr):\n",
        "    a=arr.ndim\n",
        "    return a\n",
        "print(\"dimension is:\",array_dimension(arr))"
      ],
      "metadata": {
        "colab": {
          "base_uri": "https://localhost:8080/"
        },
        "id": "2h0AqwuV8NQx",
        "outputId": "a2853836-b74b-4428-eb03-de0b7a47cb4c"
      },
      "execution_count": 10,
      "outputs": [
        {
          "output_type": "stream",
          "name": "stdout",
          "text": [
            "dimension is: 2\n"
          ]
        }
      ]
    },
    {
      "cell_type": "code",
      "source": [
        "#8. Design a function item_size_info that takes a NumPy array as input and returns the item size and the total size in bytes.\n",
        "\n",
        "import numpy as np\n",
        "arr= np.array([4,5,6,7,8,9,10])\n",
        "def item_size_info(arr):\n",
        "    a= arr.itemsize\n",
        "    b= arr.nbytes\n",
        "    return a, b\n",
        "\n",
        "print(\"here the item size and total size in bytes:\",item_size_info(arr))"
      ],
      "metadata": {
        "colab": {
          "base_uri": "https://localhost:8080/"
        },
        "id": "sWhjUG9L8NNo",
        "outputId": "0661a593-10b2-4462-fc30-1690b3b2fff5"
      },
      "execution_count": 11,
      "outputs": [
        {
          "output_type": "stream",
          "name": "stdout",
          "text": [
            "here the item size and total size in bytes: (8, 56)\n"
          ]
        }
      ]
    },
    {
      "cell_type": "code",
      "source": [
        "#9. Create a function array_strides that takes a NumPy array as input and returns the strides of the array.\n",
        "\n",
        "\n",
        "import numpy as np\n",
        "\n",
        "arr= np.arange(0,10)\n",
        "\n",
        "def array_strides(arr):\n",
        "    return arr.strides\n",
        "\n",
        "print(\"strides of the array:\",array_strides(arr))"
      ],
      "metadata": {
        "colab": {
          "base_uri": "https://localhost:8080/"
        },
        "id": "zIETfIvw8NK2",
        "outputId": "7053d485-bcd3-4dcd-9f61-ac796476128d"
      },
      "execution_count": 12,
      "outputs": [
        {
          "output_type": "stream",
          "name": "stdout",
          "text": [
            "strides of the array: (8,)\n"
          ]
        }
      ]
    },
    {
      "cell_type": "code",
      "source": [
        "# 10. Design a function shape_stride_relationship that takes a NumPy array as input and returns the shape and strides of the array.\n",
        "\n",
        "import numpy as np\n",
        "\n",
        "\n",
        "arr=np.array([1,2,3,4,5,6,7,8,9,10])\n",
        "\n",
        "def function_shape_strides_relationship(arr):\n",
        "    a=arr.size\n",
        "    b=arr.strides\n",
        "    return a,b\n",
        "\n",
        "print(\"size and strides:\",function_shape_strides_relationship(arr))"
      ],
      "metadata": {
        "colab": {
          "base_uri": "https://localhost:8080/"
        },
        "id": "TWzKt0lE8NIS",
        "outputId": "5011dbbe-d7c0-46d3-b203-79a891a8ab97"
      },
      "execution_count": 13,
      "outputs": [
        {
          "output_type": "stream",
          "name": "stdout",
          "text": [
            "size and strides: (10, (8,))\n"
          ]
        }
      ]
    },
    {
      "cell_type": "code",
      "source": [
        "#11. Create a function `create_zeros_array` that takes an integer `n` as input and returns a NumPy array of zeros with `n` elements.\n",
        "\n",
        "import numpy as np\n",
        "\n",
        "n=int(input(\"enter the number for create_zeros_array\"))\n",
        "\n",
        "def create_zeros_array(n):\n",
        "    return np.zeros(n)\n",
        "\n",
        "print(create_zeros_array(n))"
      ],
      "metadata": {
        "colab": {
          "base_uri": "https://localhost:8080/"
        },
        "id": "2vUpgO4m8NFg",
        "outputId": "a9191f57-994f-45a8-9f18-7e7b7c9c3ad0"
      },
      "execution_count": 16,
      "outputs": [
        {
          "output_type": "stream",
          "name": "stdout",
          "text": [
            "enter the number for create_zeros_array10\n",
            "[0. 0. 0. 0. 0. 0. 0. 0. 0. 0.]\n"
          ]
        }
      ]
    },
    {
      "cell_type": "code",
      "source": [
        "# 12. Write a function `create_ones_matrix` that takes integers `rows` and `cols` as inputs and generates a 2D\n",
        "# NumPy array filled with ones of size `rows x cols`.\n",
        "\n",
        "import numpy as np\n",
        "row=int(input(\"enter the number for row\"))\n",
        "cols=int(input(\"enter the number for columns\"))\n",
        "\n",
        "def create_ones_matrix(row,cols):\n",
        "    return np.ones((row,cols))\n",
        "\n",
        "\n",
        "print(create_ones_matrix(row,cols))"
      ],
      "metadata": {
        "colab": {
          "base_uri": "https://localhost:8080/"
        },
        "id": "FY4l1ilH8NC5",
        "outputId": "2f384c53-1d6d-430d-a3fd-33f6927d60ee"
      },
      "execution_count": 17,
      "outputs": [
        {
          "output_type": "stream",
          "name": "stdout",
          "text": [
            "enter the number for row15\n",
            "enter the number for columns15\n",
            "[[1. 1. 1. 1. 1. 1. 1. 1. 1. 1. 1. 1. 1. 1. 1.]\n",
            " [1. 1. 1. 1. 1. 1. 1. 1. 1. 1. 1. 1. 1. 1. 1.]\n",
            " [1. 1. 1. 1. 1. 1. 1. 1. 1. 1. 1. 1. 1. 1. 1.]\n",
            " [1. 1. 1. 1. 1. 1. 1. 1. 1. 1. 1. 1. 1. 1. 1.]\n",
            " [1. 1. 1. 1. 1. 1. 1. 1. 1. 1. 1. 1. 1. 1. 1.]\n",
            " [1. 1. 1. 1. 1. 1. 1. 1. 1. 1. 1. 1. 1. 1. 1.]\n",
            " [1. 1. 1. 1. 1. 1. 1. 1. 1. 1. 1. 1. 1. 1. 1.]\n",
            " [1. 1. 1. 1. 1. 1. 1. 1. 1. 1. 1. 1. 1. 1. 1.]\n",
            " [1. 1. 1. 1. 1. 1. 1. 1. 1. 1. 1. 1. 1. 1. 1.]\n",
            " [1. 1. 1. 1. 1. 1. 1. 1. 1. 1. 1. 1. 1. 1. 1.]\n",
            " [1. 1. 1. 1. 1. 1. 1. 1. 1. 1. 1. 1. 1. 1. 1.]\n",
            " [1. 1. 1. 1. 1. 1. 1. 1. 1. 1. 1. 1. 1. 1. 1.]\n",
            " [1. 1. 1. 1. 1. 1. 1. 1. 1. 1. 1. 1. 1. 1. 1.]\n",
            " [1. 1. 1. 1. 1. 1. 1. 1. 1. 1. 1. 1. 1. 1. 1.]\n",
            " [1. 1. 1. 1. 1. 1. 1. 1. 1. 1. 1. 1. 1. 1. 1.]]\n"
          ]
        }
      ]
    },
    {
      "cell_type": "code",
      "source": [
        "# 13. Write a function `generate_range_array` that takes three integers start, stop, and step as arguments and\n",
        "#creates a NumPy array with a range starting from `start`, ending at stop (exclusive), and with the specified `step`.\n",
        "import numpy as np\n",
        "\n",
        "\n",
        "start=int(input(\"enter the start num\"))\n",
        "stop= int(input(\"enter the num where u want to stop\"))\n",
        "step=int(input(\"enter the step num\"))\n",
        "\n",
        "\n",
        "def generate_range_array(start,stop,step):\n",
        "    return np.arange(start,stop,step)\n",
        "\n",
        "print(generate_range_array(start,stop,step))\n",
        ""
      ],
      "metadata": {
        "colab": {
          "base_uri": "https://localhost:8080/"
        },
        "id": "b85XapsE8M_r",
        "outputId": "7998fb6a-c7d6-47ba-f714-7a0788c60851"
      },
      "execution_count": 19,
      "outputs": [
        {
          "output_type": "stream",
          "name": "stdout",
          "text": [
            "enter the start num0\n",
            "enter the num where u want to stop10\n",
            "enter the step num5\n",
            "[0 5]\n"
          ]
        }
      ]
    },
    {
      "cell_type": "code",
      "source": [
        "#14. Design a function `generate_linear_space` that takes two floats `start`, `stop`, and an integer `num` as\n",
        "#arguments and generates a NumPy array with num equally spaced values between `start` and `stop` (inclusive).\n",
        "\n",
        "import numpy as np\n",
        "\n",
        "def generate_linear_space(start:float, stop:float, num:int):\n",
        "    return np.linspace(start, stop, num)\n",
        "\n",
        "print(generate_linear_space(0,12.5,5))"
      ],
      "metadata": {
        "colab": {
          "base_uri": "https://localhost:8080/"
        },
        "id": "-U45ixb78M86",
        "outputId": "e82f2157-53b8-4c92-8797-e786f13a2535"
      },
      "execution_count": 20,
      "outputs": [
        {
          "output_type": "stream",
          "name": "stdout",
          "text": [
            "[ 0.     3.125  6.25   9.375 12.5  ]\n"
          ]
        }
      ]
    },
    {
      "cell_type": "code",
      "source": [
        "# 15. Create a function `create_identity_matrix` that takes an integer `n` as input and generates a square\n",
        "#identity matrix of size `n x n` using `numpy.eye`\n",
        "\n",
        "import numpy as np\n",
        "\n",
        "n=int(input(\"enter the number\"))\n",
        "\n",
        "def create_identity_matrix(n):\n",
        "    return np.eye(n,n,dtype=int)\n",
        "\n",
        "print(create_identity_matrix(n))\n",
        "\n",
        "#insight- np.eye() Returns a 2-D array with ones on the diagonal and zeros elsewhere."
      ],
      "metadata": {
        "colab": {
          "base_uri": "https://localhost:8080/"
        },
        "id": "sPfQ8zgn8M6R",
        "outputId": "5e7dcdb8-88d7-42f9-89ff-54751dde1412"
      },
      "execution_count": 22,
      "outputs": [
        {
          "output_type": "stream",
          "name": "stdout",
          "text": [
            "enter the number10\n",
            "[[1 0 0 0 0 0 0 0 0 0]\n",
            " [0 1 0 0 0 0 0 0 0 0]\n",
            " [0 0 1 0 0 0 0 0 0 0]\n",
            " [0 0 0 1 0 0 0 0 0 0]\n",
            " [0 0 0 0 1 0 0 0 0 0]\n",
            " [0 0 0 0 0 1 0 0 0 0]\n",
            " [0 0 0 0 0 0 1 0 0 0]\n",
            " [0 0 0 0 0 0 0 1 0 0]\n",
            " [0 0 0 0 0 0 0 0 1 0]\n",
            " [0 0 0 0 0 0 0 0 0 1]]\n"
          ]
        }
      ]
    },
    {
      "cell_type": "code",
      "source": [
        "#16. Write a function that takes a Python list and converts it into a NumPy array.\n",
        "\n",
        "import numpy as np\n",
        "\n",
        "lis=[4,5,6,7,8,9,10]\n",
        "\n",
        "def lis_to_nump_arr(lis):\n",
        "    return np.array(lis)\n",
        "\n",
        "print(lis_to_nump_arr(lis))"
      ],
      "metadata": {
        "colab": {
          "base_uri": "https://localhost:8080/"
        },
        "id": "lM59S7Ue8M3i",
        "outputId": "48e79b07-e554-45a1-ff40-581007595441"
      },
      "execution_count": 23,
      "outputs": [
        {
          "output_type": "stream",
          "name": "stdout",
          "text": [
            "[ 4  5  6  7  8  9 10]\n"
          ]
        }
      ]
    },
    {
      "cell_type": "code",
      "source": [
        "#17. Create a NumPy array and demonstrate the use of `numpy.view` to create a new array object with the same data.\n",
        "\n",
        "\n",
        "import numpy as np\n",
        "\n",
        "#original array\n",
        "org_array= np.array([1,2,3,4,5])\n",
        "\n",
        "print(\"orginal data:\", org_array)\n",
        "\n",
        "#use numpy.view()  to create a new object with same data\n",
        "view_array= org_array.view()\n",
        "\n",
        "print(\"view array:\", view_array)\n",
        "\n",
        "#let's modify the original data\n",
        "\n",
        "org_array[0] = 101\n",
        "\n",
        "print(\"modified original data:\",org_array)\n",
        "#view array will modified bc its shares the same data\n",
        "\n",
        "\n",
        "print(\"view array after original data modification:\",view_array)"
      ],
      "metadata": {
        "colab": {
          "base_uri": "https://localhost:8080/"
        },
        "id": "C3LAlqYx8M0x",
        "outputId": "1244b7f9-eeba-4ec4-ce76-bb1716ccacca"
      },
      "execution_count": 24,
      "outputs": [
        {
          "output_type": "stream",
          "name": "stdout",
          "text": [
            "orginal data: [1 2 3 4 5]\n",
            "view array: [1 2 3 4 5]\n",
            "modified original data: [101   2   3   4   5]\n",
            "view array after original data modification: [101   2   3   4   5]\n"
          ]
        }
      ]
    },
    {
      "cell_type": "code",
      "source": [
        "#18. Write a function that takes two NumPy arrays and concatenates them along a specified axis.\n",
        "\n",
        "import numpy as np\n",
        "\n",
        "def concatenate_arrays(arr1, arr2, axis):\n",
        "        return np.concatenate((arr1, arr2), axis)\n",
        "\n",
        "arr1= np.array([4,5,6])\n",
        "arr2=np.array([7,8,9])\n",
        "\n",
        "\n",
        "#1d array\n",
        "print(concatenate_arrays(arr1,arr2, axis=0))\n",
        "#2d array with 1 axis\n",
        "\n",
        "\n",
        "arr1= np.array([[4,5,6],[7,8,9]])\n",
        "arr2=np.array([[10,11],[12,13]])\n",
        "print()\n",
        "\n",
        "print(concatenate_arrays(arr1, arr2, axis=1))"
      ],
      "metadata": {
        "colab": {
          "base_uri": "https://localhost:8080/"
        },
        "id": "oK9lMyGV8Mxn",
        "outputId": "3e7f4bd0-8f40-4504-be1d-ffb5150796a0"
      },
      "execution_count": 25,
      "outputs": [
        {
          "output_type": "stream",
          "name": "stdout",
          "text": [
            "[4 5 6 7 8 9]\n",
            "\n",
            "[[ 4  5  6 10 11]\n",
            " [ 7  8  9 12 13]]\n"
          ]
        }
      ]
    },
    {
      "cell_type": "code",
      "source": [
        "# 19.  Create two NumPy arrays with different shapes and concatenate them horizontally using `numpy. concatenate`.\n",
        "\n",
        "import numpy as np\n",
        "\n",
        "\n",
        "num1= np.array([[3,3],[4,4]])\n",
        "num2= np.array([[5,5,5],[6,6,6]])\n",
        "\n",
        "horizontally= np.concatenate((num1,num2), axis=1)\n",
        "\n",
        "print(horizontally)"
      ],
      "metadata": {
        "colab": {
          "base_uri": "https://localhost:8080/"
        },
        "id": "hE5ApN948MvA",
        "outputId": "907ab914-b702-4063-ec80-4907aa3c1f49"
      },
      "execution_count": 26,
      "outputs": [
        {
          "output_type": "stream",
          "name": "stdout",
          "text": [
            "[[3 3 5 5 5]\n",
            " [4 4 6 6 6]]\n"
          ]
        }
      ]
    },
    {
      "cell_type": "code",
      "source": [
        "#20. Write a function that vertically stacks multiple NumPy arrays given as a list.\n",
        "\n",
        "import numpy as np\n",
        "\n",
        "def vertical_array(arrays):\n",
        "    return np.vstack(arrays)\n",
        "\n",
        "arrays=  [np.array([1,2,3,4,5]), np.array([6,7,8,9,10]), np.array([11,12,13,14,15])]\n",
        "\n",
        "\n",
        "\n",
        "\n",
        "print(vertical_array(arrays))"
      ],
      "metadata": {
        "colab": {
          "base_uri": "https://localhost:8080/"
        },
        "id": "8QpKN0GF8MsV",
        "outputId": "63c33be9-5883-4e02-a6f2-54356cedf00a"
      },
      "execution_count": 27,
      "outputs": [
        {
          "output_type": "stream",
          "name": "stdout",
          "text": [
            "[[ 1  2  3  4  5]\n",
            " [ 6  7  8  9 10]\n",
            " [11 12 13 14 15]]\n"
          ]
        }
      ]
    },
    {
      "cell_type": "code",
      "source": [
        "# 21. Write a Python function using NumPy to create an array of integers within a specified range (inclusive)\n",
        "#with a given step size.\n",
        "\n",
        "\n",
        "import numpy as np\n",
        "\n",
        "\n",
        "def array_int(start, end, step):\n",
        "    return np.arange(start,end+1,step)\n",
        "\n",
        "\n",
        "\n",
        "print(array_int(1,20,3))"
      ],
      "metadata": {
        "colab": {
          "base_uri": "https://localhost:8080/"
        },
        "id": "zPgxwmn68MpR",
        "outputId": "855a9b31-d6ea-4d1f-c213-ce03e24382f6"
      },
      "execution_count": 28,
      "outputs": [
        {
          "output_type": "stream",
          "name": "stdout",
          "text": [
            "[ 1  4  7 10 13 16 19]\n"
          ]
        }
      ]
    },
    {
      "cell_type": "code",
      "source": [
        "#22. Write a Python function using NumPy to generate an array of 10 equally spaced values between 0 and 1 (inclusive).\n",
        "\n",
        "import numpy as np\n",
        "\n",
        "def generate_array():\n",
        "    return np.linspace(0,1,10)\n",
        "\n",
        "print(generate_array())"
      ],
      "metadata": {
        "colab": {
          "base_uri": "https://localhost:8080/"
        },
        "id": "oorbQuqF8Mmh",
        "outputId": "dffddb1b-1914-4624-b6d3-d7a95e05ef17"
      },
      "execution_count": 29,
      "outputs": [
        {
          "output_type": "stream",
          "name": "stdout",
          "text": [
            "[0.         0.11111111 0.22222222 0.33333333 0.44444444 0.55555556\n",
            " 0.66666667 0.77777778 0.88888889 1.        ]\n"
          ]
        }
      ]
    },
    {
      "cell_type": "code",
      "source": [
        "# 23. Write a Python function using NumPy to create an array of 5 logarithmically spaced values between 1 and 1000 (inclusive).\n",
        "\n",
        "import numpy as np\n",
        "\n",
        "def log_spaced_values(start, end, num_values):\n",
        "    return np.logspace(np.log10(start), np.log10(end)+1, num_values,base=5)\n",
        "\n",
        "values=log_spaced_values(1,1000,5)\n",
        "\n",
        "print(values)"
      ],
      "metadata": {
        "colab": {
          "base_uri": "https://localhost:8080/"
        },
        "id": "TeaGX2vM8MkC",
        "outputId": "a14ba964-a91a-4499-c55b-f2020ed80e8a"
      },
      "execution_count": 30,
      "outputs": [
        {
          "output_type": "stream",
          "name": "stdout",
          "text": [
            "[  1.   5.  25. 125. 625.]\n"
          ]
        }
      ]
    },
    {
      "cell_type": "code",
      "source": [
        "# 24. Create a Pandas DataFrame using a NumPy array that contains 5 rows and 3 columns, where the values\n",
        "# are random integers between 1 and 100.\n",
        "\n",
        "import pandas as pd\n",
        "import numpy as np\n",
        "\n",
        "\n",
        "arr=np.random.randint(1,100,(5,3))\n",
        "\n",
        "\n",
        "df= pd.DataFrame(arr, columns=['column1','column2','column3'])\n",
        "\n",
        "print(df)"
      ],
      "metadata": {
        "colab": {
          "base_uri": "https://localhost:8080/"
        },
        "id": "o__tr_Hj8Meo",
        "outputId": "9b8c1065-3149-4e99-e755-0d216c9fe747"
      },
      "execution_count": 31,
      "outputs": [
        {
          "output_type": "stream",
          "name": "stdout",
          "text": [
            "   column1  column2  column3\n",
            "0       22       61       62\n",
            "1        8       78       77\n",
            "2       59       96        3\n",
            "3       82       94       76\n",
            "4       35       73       86\n"
          ]
        }
      ]
    },
    {
      "cell_type": "code",
      "source": [
        "#25. Write a function that takes a Pandas DataFrame and replaces all negative values in a specific column\n",
        "#with zeros. Use NumPy operations within the Pandas DataFrame.\n",
        "\n",
        "import pandas as pd\n",
        "import numpy as np\n",
        "\n",
        "def replace_neg_values(df, column1):\n",
        "    df[column1]= np.where(df[column1] <0,0, df[column1])\n",
        "    return df\n",
        "\n",
        "\n",
        "df=pd.DataFrame({'a':[1,2,3,-4,-8], 'b':[7,10,20,30,40]})\n",
        "print(df)\n",
        "print(\"after modification\")\n",
        "\n",
        "res= replace_neg_values(df, 'a')\n",
        "\n",
        "print(res)"
      ],
      "metadata": {
        "colab": {
          "base_uri": "https://localhost:8080/"
        },
        "id": "NcHrthPQ8McA",
        "outputId": "447e9a70-deb7-49a6-c0a5-f38920fd3b5f"
      },
      "execution_count": 32,
      "outputs": [
        {
          "output_type": "stream",
          "name": "stdout",
          "text": [
            "   a   b\n",
            "0  1   7\n",
            "1  2  10\n",
            "2  3  20\n",
            "3 -4  30\n",
            "4 -8  40\n",
            "after modification\n",
            "   a   b\n",
            "0  1   7\n",
            "1  2  10\n",
            "2  3  20\n",
            "3  0  30\n",
            "4  0  40\n"
          ]
        }
      ]
    },
    {
      "cell_type": "code",
      "source": [
        "#26. Access the 3rd element from the given NumPy array.\n",
        "\n",
        "import numpy as np\n",
        "arr = np.array([10, 20, 30, 40, 50])\n",
        "\n",
        "\n",
        "arr[2]"
      ],
      "metadata": {
        "colab": {
          "base_uri": "https://localhost:8080/"
        },
        "id": "rHYKHLVY8MZJ",
        "outputId": "d5606175-0e28-4516-921b-1238e549b201"
      },
      "execution_count": 33,
      "outputs": [
        {
          "output_type": "execute_result",
          "data": {
            "text/plain": [
              "30"
            ]
          },
          "metadata": {},
          "execution_count": 33
        }
      ]
    },
    {
      "cell_type": "code",
      "source": [
        "# 27. Retrieve the element at index (1, 2) from the 2D NumPy array.\n",
        "\n",
        "import numpy as np\n",
        "\n",
        "arr_2d = np.array([[1, 2, 3],[4, 5, 6],[7, 8, 9]])\n",
        "\n",
        "\n",
        "#element at index (1, 2)\n",
        "arr=arr_2d[1,2]\n",
        "print(arr)"
      ],
      "metadata": {
        "colab": {
          "base_uri": "https://localhost:8080/"
        },
        "id": "Zj28T5tc8MWT",
        "outputId": "1f92c717-71c0-4f23-8431-828688b35761"
      },
      "execution_count": 34,
      "outputs": [
        {
          "output_type": "stream",
          "name": "stdout",
          "text": [
            "6\n"
          ]
        }
      ]
    },
    {
      "cell_type": "code",
      "source": [
        "#28. Using boolean indexing, extract elements greater than 5 from the given NumPy array.\n",
        "\n",
        "import numpy as np\n",
        "arr = np.array([3, 8, 2, 10, 5, 7])\n",
        "\n",
        "arr[0]=3.0\n",
        "arr\n",
        "\n",
        "res=np.extract(arr > 5 ,arr)\n",
        "\n",
        "print(res)\n",
        "print()\n",
        "#another method to extract\n",
        "\n",
        "res1= arr[arr>5]\n",
        "\n",
        "print(res1)"
      ],
      "metadata": {
        "colab": {
          "base_uri": "https://localhost:8080/"
        },
        "id": "uU-UeBGp8MTI",
        "outputId": "d11e6a67-94a4-4528-8ac0-059f3856744b"
      },
      "execution_count": 35,
      "outputs": [
        {
          "output_type": "stream",
          "name": "stdout",
          "text": [
            "[ 8 10  7]\n",
            "\n",
            "[ 8 10  7]\n"
          ]
        }
      ]
    },
    {
      "cell_type": "code",
      "source": [
        "#29 Perform basic slicing to extract elements from index 2 to 5 (inclusive) from the given NumPy array.\n",
        "\n",
        "import numpy as np\n",
        "\n",
        "arr = np.array([1, 2, 3, 4, 5, 6, 7, 8, 9])\n",
        "\n",
        "\n",
        "slicing= arr[2:6]\n",
        "print(slicing)"
      ],
      "metadata": {
        "colab": {
          "base_uri": "https://localhost:8080/"
        },
        "id": "7YxWHVGM8MQZ",
        "outputId": "d889deb4-9a6b-46c4-88a0-2ee23fdc45e2"
      },
      "execution_count": 36,
      "outputs": [
        {
          "output_type": "stream",
          "name": "stdout",
          "text": [
            "[3 4 5 6]\n"
          ]
        }
      ]
    },
    {
      "cell_type": "code",
      "source": [
        "# 30. Slice the 2D NumPy array to extract the sub-array `[[2, 3], [5, 6]]` from the given array.\n",
        "\n",
        "import numpy as np\n",
        "arr_2d = np.array([[1, 2, 3],[4, 5, 6],[7, 8, 9]])\n",
        "print(arr_2d)\n",
        "\n",
        "print()\n",
        "\n",
        "print(\"below the sub array \")\n",
        "sub_array=arr_2d[0:2,1:3]\n",
        "\n",
        "#second method for the same\n",
        "sub_array=arr_2d[0:2,[1,2]]\n",
        "\n",
        "\n",
        "\n",
        "print(sub_array)"
      ],
      "metadata": {
        "colab": {
          "base_uri": "https://localhost:8080/"
        },
        "id": "ZL8vr98u8MNj",
        "outputId": "dc2fc9ea-4522-4a94-83b3-5f0430885dda"
      },
      "execution_count": 37,
      "outputs": [
        {
          "output_type": "stream",
          "name": "stdout",
          "text": [
            "[[1 2 3]\n",
            " [4 5 6]\n",
            " [7 8 9]]\n",
            "\n",
            "below the sub array \n",
            "[[2 3]\n",
            " [5 6]]\n"
          ]
        }
      ]
    },
    {
      "cell_type": "code",
      "source": [
        "#31.Write a NumPy function to extract elements in specific order from a given 2D array based on indices provided in another array.\n",
        "\n",
        "import numpy as np\n",
        "\n",
        "arr=np.array([[1,2,3],[4,5,6],[7,8,9]])\n",
        "\n",
        "# Define the indices to extract\n",
        "indices = np.array([0, 1, 2])  # Example indices\n",
        "\n",
        "def extract_ele(arr, indices):\n",
        "    \"\"\"\n",
        "    Extracts elements from a 2D array in a specific order based on given indices.\n",
        "\n",
        "    Args:\n",
        "    arr (NumPy array): The input 2D array.\n",
        "    indices (NumPy array): Array containing the indices to extract.\n",
        "\n",
        "    Returns:\n",
        "    tuple: A tuple containing the extracted elements.\n",
        "    \"\"\"\n",
        "    a=arr[0, indices[0]] # Access elements using the provided indices\n",
        "    b=arr[1, indices[1]]\n",
        "    c=arr[2, indices[2]]\n",
        "    return a,b,c\n",
        "\n",
        "\n",
        "res=extract_ele(arr, indices)\n",
        "\n",
        "print(res)"
      ],
      "metadata": {
        "colab": {
          "base_uri": "https://localhost:8080/"
        },
        "id": "PCqsvfzC8MLJ",
        "outputId": "d2bda241-d975-4baa-b5ab-201fa762e9b0"
      },
      "execution_count": 47,
      "outputs": [
        {
          "output_type": "stream",
          "name": "stdout",
          "text": [
            "(1, 5, 9)\n"
          ]
        }
      ]
    },
    {
      "cell_type": "code",
      "source": [
        "#32.Create a NumPy function that filters elements greater than a threshold from a given 1D array using boolean indexing.\n",
        "\n",
        "import numpy as np\n",
        "\n",
        "arr=np.array([1,2,3,4,5,6,7,8,9,10,11])\n",
        "threshold= 5\n",
        "\n",
        "def filter_ele(arr, threshold):\n",
        "    return arr[arr > threshold]\n",
        "\n",
        "res=filter_ele(arr,threshold)\n",
        "\n",
        "print(res)"
      ],
      "metadata": {
        "colab": {
          "base_uri": "https://localhost:8080/"
        },
        "id": "8GYX228W8MId",
        "outputId": "b20359eb-5407-484a-88b6-bee7126b499c"
      },
      "execution_count": 48,
      "outputs": [
        {
          "output_type": "stream",
          "name": "stdout",
          "text": [
            "[ 6  7  8  9 10 11]\n"
          ]
        }
      ]
    },
    {
      "cell_type": "code",
      "source": [
        "#33.Develop a NumPy function that extracts specific elements from a 3D array using indices provided in three\n",
        "#separate arrays for each dimension.\n",
        "\n",
        "\n",
        "import numpy as np\n",
        "\n",
        "arr=np.array([[[1,2,3],[4,5,6],[7,8,9]],\n",
        "               [[10,11,12],[13,14,15],[16,17,18]],\n",
        "               [[19,20,21],[22,23,24],[25,26,27]]])\n",
        "\n",
        "def sep_array(arr):\n",
        "    ind1=arr[0,1,2]\n",
        "    ind2=arr[1,2,0]\n",
        "    ind3=arr[2,1,0]\n",
        "    return ind1,ind2,ind3\n",
        "\n",
        "res=sep_array(arr)\n",
        "print(res)"
      ],
      "metadata": {
        "colab": {
          "base_uri": "https://localhost:8080/"
        },
        "id": "uoJJwlSE8MF6",
        "outputId": "7103cdc6-6305-48a0-bc79-bc2e27f06d02"
      },
      "execution_count": 49,
      "outputs": [
        {
          "output_type": "stream",
          "name": "stdout",
          "text": [
            "(6, 16, 22)\n"
          ]
        }
      ]
    },
    {
      "cell_type": "code",
      "source": [
        "# 34.Write a NumPy function that returns elements from an array where both two conditions are satisfied using boolean indexing.\n",
        "import numpy as np\n",
        "\n",
        "arr=np.array([1,2,3,4,5,6,7,8,9,10,11,12,13,15])\n",
        "\n",
        "def numpy_fun(arr, condition1, condition2):\n",
        "    return arr[condition1 & condition2]\n",
        "\n",
        "\n",
        "\n",
        "condition1= arr > 4\n",
        "condition2= arr < 12\n",
        "\n",
        "res= numpy_fun(arr, condition1, condition2)\n",
        "print(res)"
      ],
      "metadata": {
        "colab": {
          "base_uri": "https://localhost:8080/"
        },
        "id": "JiLMeWBI8MC1",
        "outputId": "27abebd8-9730-43a9-eee6-d8b50f14f607"
      },
      "execution_count": 50,
      "outputs": [
        {
          "output_type": "stream",
          "name": "stdout",
          "text": [
            "[ 5  6  7  8  9 10 11]\n"
          ]
        }
      ]
    },
    {
      "cell_type": "code",
      "source": [
        "# 35. Create a NumPy function that extracts elements from a 2D array using row and column indices provided in separate arrays.\n",
        "\n",
        "import numpy as np\n",
        "\n",
        "def arr_indices(arr, row_num,col_num):\n",
        "    return arr[row_num,col_num]\n",
        "\n",
        "arr=np.array([[1,2,3],\n",
        "              [4,5,6],\n",
        "              [7,8,9]])\n",
        "\n",
        "row_num= np.array([0,2])\n",
        "col_num=np.array([1,0])\n",
        "\n",
        "newarray= arr_indices(arr, row_num,col_num)\n",
        "\n",
        "print(newarray)"
      ],
      "metadata": {
        "colab": {
          "base_uri": "https://localhost:8080/"
        },
        "id": "m8fW2ZPB8MAb",
        "outputId": "7a2aaf65-054d-4634-ad2f-69a05cea630d"
      },
      "execution_count": 53,
      "outputs": [
        {
          "output_type": "stream",
          "name": "stdout",
          "text": [
            "[2 7]\n"
          ]
        }
      ]
    },
    {
      "cell_type": "code",
      "source": [
        "#36. Given an array arr of shape (3, 3), add a scalar value of 5 to each element using NumPy broadcasting.\n",
        "\n",
        "import numpy as np\n",
        "\n",
        "arr=np.random.randint(1,10,(3,3))\n",
        "\n",
        "print(arr)\n",
        "\n",
        "print()\n",
        "print(\"add a scalar value of 5 to each element using NumPy broadcasting:\")\n",
        "\n",
        "a= arr + 5\n",
        "print(a)"
      ],
      "metadata": {
        "colab": {
          "base_uri": "https://localhost:8080/"
        },
        "id": "Uhd_xObv8L9l",
        "outputId": "3e866c1f-dd36-4302-be62-8143f07fe362"
      },
      "execution_count": 54,
      "outputs": [
        {
          "output_type": "stream",
          "name": "stdout",
          "text": [
            "[[8 3 4]\n",
            " [1 5 7]\n",
            " [1 3 7]]\n",
            "\n",
            "add a scalar value of 5 to each element using NumPy broadcasting:\n",
            "[[13  8  9]\n",
            " [ 6 10 12]\n",
            " [ 6  8 12]]\n"
          ]
        }
      ]
    },
    {
      "cell_type": "code",
      "source": [
        "# 37.Consider two arrays arr1 of shape (1, 3) and arr2 of shape (3, 4). Multiply each row of arr2 by the\n",
        "#corresponding element in arr1 using NumPy broadcasting.\n",
        "\n",
        "import numpy as np\n",
        "\n",
        "arr1=np.array([[1,2,3]]) # shape(1,3)\n",
        "arr2=np.array([[4,5,6,7],[8,9,10,11],[12,13,14,15]])  #shpae(3,4)\n",
        "\n",
        "res= arr2 * arr1[:,:,np.newaxis]\n",
        "print(res)\n"
      ],
      "metadata": {
        "colab": {
          "base_uri": "https://localhost:8080/"
        },
        "id": "6-44IhDF8L7N",
        "outputId": "0d77f48c-6a7f-4d41-c0e7-3ff766b3170e"
      },
      "execution_count": 55,
      "outputs": [
        {
          "output_type": "stream",
          "name": "stdout",
          "text": [
            "[[[ 4  5  6  7]\n",
            "  [16 18 20 22]\n",
            "  [36 39 42 45]]]\n"
          ]
        }
      ]
    },
    {
      "cell_type": "code",
      "source": [
        "#38.Given a 1D array arr1 of shape (1, 4) and a 2D array arr2 of shape (4, 3), add arr1 to each row of arr2 using NumPy broadcasting.\n",
        "\n",
        "import numpy as np\n",
        "\n",
        "arr1= np.array([1,2,3,4])\n",
        "arr2=np.array([[4,5,6],[7,8,9],[10,11,12],[13,14,15]])\n",
        "\n",
        "res= arr2 +arr1[:,np.newaxis]\n",
        "\n",
        "print(res)"
      ],
      "metadata": {
        "colab": {
          "base_uri": "https://localhost:8080/"
        },
        "id": "k8Jby_Od8L4P",
        "outputId": "f2678186-f5af-48fd-a218-5668d22ead8c"
      },
      "execution_count": 56,
      "outputs": [
        {
          "output_type": "stream",
          "name": "stdout",
          "text": [
            "[[ 5  6  7]\n",
            " [ 9 10 11]\n",
            " [13 14 15]\n",
            " [17 18 19]]\n"
          ]
        }
      ]
    },
    {
      "cell_type": "code",
      "source": [
        "#39.Consider two arrays arr1 of shape (3, 1) and arr2 of shape (1, 3). Add these arrays using NumPy broadcasting.\n",
        "import numpy as np\n",
        "\n",
        "arr1=np.array([[1],[2],[3]])  #shape(3,1)\n",
        "arr2=np.array([4,5,6])         #shape(1,3)\n",
        "\n",
        "\n",
        "arr1 +arr2"
      ],
      "metadata": {
        "colab": {
          "base_uri": "https://localhost:8080/"
        },
        "id": "LeLqMKOR8L1b",
        "outputId": "f4090181-a6bf-4945-9e0b-0b4d571c1542"
      },
      "execution_count": 57,
      "outputs": [
        {
          "output_type": "execute_result",
          "data": {
            "text/plain": [
              "array([[5, 6, 7],\n",
              "       [6, 7, 8],\n",
              "       [7, 8, 9]])"
            ]
          },
          "metadata": {},
          "execution_count": 57
        }
      ]
    },
    {
      "cell_type": "code",
      "source": [
        "#40.Given arrays arr1 of shape (2, 3) and arr2 of shape (2, 2), perform multiplication using NumPy\n",
        "# broadcasting. Handle the shape incompatibility.\n",
        "\n",
        "import numpy as np\n",
        "\n",
        "arr1= np.array([[1,2,3],[4,5,6]])\n",
        "arr2=np.array([[7,8],[9,10]])\n",
        "\n",
        "arr2=arr2.reshape(2,2,1)    #now shape is become 2,2,1\n",
        "\n",
        "res= arr1 * arr2\n",
        "\n",
        "print(res)"
      ],
      "metadata": {
        "colab": {
          "base_uri": "https://localhost:8080/"
        },
        "id": "xkD7lrZ18Lyx",
        "outputId": "0cf2f043-9af6-4f0f-c7a8-dd101e9f712b"
      },
      "execution_count": 58,
      "outputs": [
        {
          "output_type": "stream",
          "name": "stdout",
          "text": [
            "[[[ 7 14 21]\n",
            "  [32 40 48]]\n",
            "\n",
            " [[ 9 18 27]\n",
            "  [40 50 60]]]\n"
          ]
        }
      ]
    },
    {
      "cell_type": "code",
      "source": [
        "#41. Calculate column-wise mean for the given array:\n",
        "\n",
        "import numpy as np\n",
        "\n",
        "arr = np.array([[1, 2, 3], [4, 5, 6]])\n",
        "\n",
        "\n",
        "a=np.mean(arr, axis=0)\n",
        "print(a)"
      ],
      "metadata": {
        "colab": {
          "base_uri": "https://localhost:8080/"
        },
        "id": "p-ayWI-R8Lv3",
        "outputId": "d05b935a-e08c-49f9-9deb-29c9a64eb4a7"
      },
      "execution_count": 59,
      "outputs": [
        {
          "output_type": "stream",
          "name": "stdout",
          "text": [
            "[2.5 3.5 4.5]\n"
          ]
        }
      ]
    },
    {
      "cell_type": "code",
      "source": [
        "#42. Find maximum value in each row of the given array:\n",
        "\n",
        "import numpy as np\n",
        "\n",
        "arr = np.array([[1, 2, 3], [4, 5, 6]])\n",
        "\n",
        "np.max(arr,axis=1)"
      ],
      "metadata": {
        "colab": {
          "base_uri": "https://localhost:8080/"
        },
        "id": "cXAsDz3M8LtQ",
        "outputId": "00d4933e-1546-4640-e2fa-6897b22d605c"
      },
      "execution_count": 60,
      "outputs": [
        {
          "output_type": "execute_result",
          "data": {
            "text/plain": [
              "array([3, 6])"
            ]
          },
          "metadata": {},
          "execution_count": 60
        }
      ]
    },
    {
      "cell_type": "code",
      "source": [
        "#43. For the given array, find indices of maximum value in each column.\n",
        "\n",
        "import numpy as np\n",
        "\n",
        "arr = np.array([[1, 2, 3], [4, 5, 6]])\n",
        "\n",
        "np.max(arr,axis=0)"
      ],
      "metadata": {
        "colab": {
          "base_uri": "https://localhost:8080/"
        },
        "id": "R9v9Uizb8Lqv",
        "outputId": "4478ba3f-a80a-43e7-f477-530befbe392d"
      },
      "execution_count": 61,
      "outputs": [
        {
          "output_type": "execute_result",
          "data": {
            "text/plain": [
              "array([4, 5, 6])"
            ]
          },
          "metadata": {},
          "execution_count": 61
        }
      ]
    },
    {
      "cell_type": "code",
      "source": [
        "#44. For the given array, apply custom function to calculate moving sum along rows.\n",
        "\n",
        "import numpy as np\n",
        "\n",
        "\n",
        "arr = np.array([[1, 2, 3], [4, 5, 6]])\n",
        "\n",
        "def moving_sum(arr):\n",
        "    result=[]\n",
        "    for j in arr:\n",
        "        res=[]\n",
        "        for i in range(len(j)-1):\n",
        "            sum_row=sum(j[i:i+2])\n",
        "            res.append(sum_row)\n",
        "        result.append(res)\n",
        "    return np.array(result)\n",
        "\n",
        "print(moving_sum(arr))"
      ],
      "metadata": {
        "colab": {
          "base_uri": "https://localhost:8080/"
        },
        "id": "rhh_qlIq8Ln8",
        "outputId": "da87f8d9-8027-4124-da0b-b5934227c680"
      },
      "execution_count": 62,
      "outputs": [
        {
          "output_type": "stream",
          "name": "stdout",
          "text": [
            "[[ 3  5]\n",
            " [ 9 11]]\n"
          ]
        }
      ]
    },
    {
      "cell_type": "code",
      "source": [
        "# 45. In the given array, check if all elements in each column are even.\n",
        "\n",
        "import numpy as np\n",
        "\n",
        "arr = np.array([[2, 4, 6], [3, 5, 7]])\n",
        "\n",
        "\n",
        "\n",
        "print(\"even elements:\")\n",
        "even=arr[arr %2==0]\n",
        "print(even)"
      ],
      "metadata": {
        "colab": {
          "base_uri": "https://localhost:8080/"
        },
        "id": "xWLSr9xe8Lil",
        "outputId": "2a0f5897-557d-48e0-fc85-b0a919011799"
      },
      "execution_count": 63,
      "outputs": [
        {
          "output_type": "stream",
          "name": "stdout",
          "text": [
            "even elements:\n",
            "[2 4 6]\n"
          ]
        }
      ]
    },
    {
      "cell_type": "code",
      "source": [
        "#46. Given a NumPy array arr, reshape it into a matrix of dimensions `m` rows and `n` columns. Return the reshaped matrix.\n",
        "\n",
        "import numpy as np\n",
        "\n",
        "original_array = np.array([1, 2, 3, 4, 5, 6])\n",
        "\n",
        "def reshape_array(original_array, m,n):\n",
        "    return original_array.reshape((m,n))\n",
        "\n",
        "m=2\n",
        "n=3\n",
        "reshape=reshape_array(original_array, m,n)\n",
        "print(reshape)"
      ],
      "metadata": {
        "colab": {
          "base_uri": "https://localhost:8080/"
        },
        "id": "pJfYG6b48Lf7",
        "outputId": "0161685a-1130-46ea-b335-fb579e90629d"
      },
      "execution_count": 64,
      "outputs": [
        {
          "output_type": "stream",
          "name": "stdout",
          "text": [
            "[[1 2 3]\n",
            " [4 5 6]]\n"
          ]
        }
      ]
    },
    {
      "cell_type": "code",
      "source": [
        "#47. Create a function that takes a matrix as input and returns the flattened array.\n",
        "\n",
        "\n",
        "import numpy as np\n",
        "\n",
        "input_matrix = np.array([[1, 2, 3], [4, 5, 6]])\n",
        "\n",
        "def mat_arr(input_matrix):\n",
        "    return input_matrix.flatten()\n",
        "\n",
        "flatten=mat_arr(input_matrix)\n",
        "\n",
        "print(flatten)"
      ],
      "metadata": {
        "colab": {
          "base_uri": "https://localhost:8080/"
        },
        "id": "RjtUQHRA8LUx",
        "outputId": "0accac39-1793-4b72-fe55-816910edf200"
      },
      "execution_count": 65,
      "outputs": [
        {
          "output_type": "stream",
          "name": "stdout",
          "text": [
            "[1 2 3 4 5 6]\n"
          ]
        }
      ]
    },
    {
      "cell_type": "code",
      "source": [
        "#48. Write a function that concatenates two given arrays along a specified axis.\n",
        "\n",
        "import numpy as np\n",
        "\n",
        "array1 = np.array([[1, 2], [3, 4]])\n",
        "array2 = np.array([[5, 6], [7, 8]])\n",
        "\n",
        "\n",
        "def concatenates_func(array1, array2):\n",
        "    return np.concatenate((array1,array2), axis=1)\n",
        "\n",
        "res= concatenates_func(array1, array2)\n",
        "\n",
        "print(res)"
      ],
      "metadata": {
        "colab": {
          "base_uri": "https://localhost:8080/"
        },
        "id": "ufJ-0gDs8LR9",
        "outputId": "eca23bf3-d772-439e-c541-ca8ecb9fdfa7"
      },
      "execution_count": 66,
      "outputs": [
        {
          "output_type": "stream",
          "name": "stdout",
          "text": [
            "[[1 2 5 6]\n",
            " [3 4 7 8]]\n"
          ]
        }
      ]
    },
    {
      "cell_type": "code",
      "source": [
        "#49.Create a function that splits an array into multiple sub-arrays along a specified axis.\n",
        "\n",
        "import numpy as np\n",
        "\n",
        "\n",
        "original_array = np.array([[1, 2, 3], [4, 5, 6], [7, 8, 9]])\n",
        "\n",
        "def split_func(original_array):\n",
        "    return np.split(original_array, 3, axis=0)\n",
        "\n",
        "\n",
        "res=split_func(original_array)\n",
        "print(res)"
      ],
      "metadata": {
        "colab": {
          "base_uri": "https://localhost:8080/"
        },
        "id": "oNS1AKWp_zyy",
        "outputId": "6b05616a-d18b-4061-8701-800fcba9b86b"
      },
      "execution_count": 67,
      "outputs": [
        {
          "output_type": "stream",
          "name": "stdout",
          "text": [
            "[array([[1, 2, 3]]), array([[4, 5, 6]]), array([[7, 8, 9]])]\n"
          ]
        }
      ]
    },
    {
      "cell_type": "code",
      "source": [
        "#50. Write a function that inserts and then deletes elements from a given array at specified indices.\n",
        "\n",
        "import numpy as np\n",
        "\n",
        "\n",
        "original_array = np.array([1, 2, 3, 4, 5])\n",
        "indices_to_insert = [2, 4]\n",
        "values_to_insert = [10, 11]\n",
        "indices_to_delete = [1, 3]\n",
        "\n",
        "def insert_delete_elements(array, indices_to_insert, values_to_insert, indices_to_delete):\n",
        "\n",
        "    # Convert the input array to a list for easier manipulation\n",
        "    array_list = array.tolist()\n",
        "\n",
        "    # Insert elements at specified indices\n",
        "    for idx, val in zip(indices_to_insert, values_to_insert):\n",
        "        array_list.insert(idx, val)\n",
        "\n",
        "    # Delete elements at specified indices\n",
        "    for idx in sorted(indices_to_delete, reverse=True):\n",
        "        del array_list[idx]\n",
        "\n",
        "    # Convert the list back to a NumPy array\n",
        "    modified_array = np.array(array_list)\n",
        "\n",
        "    return modified_array\n",
        "\n",
        "\n",
        "modified_array = insert_delete_elements( original_array,indices_to_insert, values_to_insert, indices_to_delete)\n",
        "print(modified_array)"
      ],
      "metadata": {
        "colab": {
          "base_uri": "https://localhost:8080/"
        },
        "id": "FW_tLHO9_73t",
        "outputId": "575b095b-5d64-4506-f9a6-80b7c2d06c8b"
      },
      "execution_count": 68,
      "outputs": [
        {
          "output_type": "stream",
          "name": "stdout",
          "text": [
            "[ 1 10 11  4  5]\n"
          ]
        }
      ]
    },
    {
      "cell_type": "code",
      "source": [
        "#51.Create a NumPy array `arr1` with random integers and another array `arr2` with integers from 1 to 10.\n",
        "#Perform element-wise addition between `arr1` and `arr2`.\n",
        "\n",
        "import numpy as np\n",
        "\n",
        "arr1=np.random.randint(1,10,(10))\n",
        "print(arr1)\n",
        "arr2=np.array([1,2,3,4,5,6,7,8,9,10])\n",
        "\n",
        "arr1 +arr2"
      ],
      "metadata": {
        "colab": {
          "base_uri": "https://localhost:8080/"
        },
        "id": "O92MusQ3_70b",
        "outputId": "7d561071-b6c4-49b9-9cfa-eced2641d986"
      },
      "execution_count": 69,
      "outputs": [
        {
          "output_type": "stream",
          "name": "stdout",
          "text": [
            "[5 6 3 2 4 6 8 2 6 2]\n"
          ]
        },
        {
          "output_type": "execute_result",
          "data": {
            "text/plain": [
              "array([ 6,  8,  6,  6,  9, 12, 15, 10, 15, 12])"
            ]
          },
          "metadata": {},
          "execution_count": 69
        }
      ]
    },
    {
      "cell_type": "code",
      "source": [
        "#52 Generate a NumPy array `arr1` with sequential integers from 10 to 1 and another array `arr2` with integers\n",
        "#from 1 to 10. Subtract `arr2` from `arr1` element-wise.\n",
        "\n",
        "\n",
        "import numpy as np\n",
        "\n",
        "arr1=np.array([10,9,8,7,6,5,4,3,2,1])\n",
        "arr2=np.array([1,2,3,4,5,6,7,8,9,10])\n",
        "\n",
        "arr2 - arr1"
      ],
      "metadata": {
        "colab": {
          "base_uri": "https://localhost:8080/"
        },
        "id": "gTAKRLv2_7xA",
        "outputId": "c9439d21-e760-4ed9-eff5-586fc33b9dc9"
      },
      "execution_count": 70,
      "outputs": [
        {
          "output_type": "execute_result",
          "data": {
            "text/plain": [
              "array([-9, -7, -5, -3, -1,  1,  3,  5,  7,  9])"
            ]
          },
          "metadata": {},
          "execution_count": 70
        }
      ]
    },
    {
      "cell_type": "code",
      "source": [
        "# 53. Create a NumPy array `arr1` with random integers and another array `arr2` with integers from 1 to 5.\n",
        "#Perform element-wise multiplication between `arr1` and `arr2`.\n",
        "\n",
        "\n",
        "import numpy as np\n",
        "\n",
        "arr1=np.random.randint(1,5,5)\n",
        "print(arr1)\n",
        "print()\n",
        "\n",
        "arr2=np.array([1,2,3,4,5])\n",
        "\n",
        "arr1 *arr2"
      ],
      "metadata": {
        "colab": {
          "base_uri": "https://localhost:8080/"
        },
        "id": "jmE8JySp_7tM",
        "outputId": "ff1b002d-86da-457f-c2fd-c23e48017439"
      },
      "execution_count": 71,
      "outputs": [
        {
          "output_type": "stream",
          "name": "stdout",
          "text": [
            "[4 1 4 3 2]\n",
            "\n"
          ]
        },
        {
          "output_type": "execute_result",
          "data": {
            "text/plain": [
              "array([ 4,  2, 12, 12, 10])"
            ]
          },
          "metadata": {},
          "execution_count": 71
        }
      ]
    },
    {
      "cell_type": "code",
      "source": [
        "#54. Generate a NumPy array `arr1` with even integers from 2 to 10 and another array `arr2` with integers from 1\n",
        "#to 5. Perform element-wise division of `arr1` by `arr2`\n",
        "\n",
        "import numpy as np\n",
        "\n",
        "arr1=np.array([2,4,6,8,10])\n",
        "\n",
        "arr2= np.array([1,2,3,4,5])\n",
        "\n",
        "\n",
        "arr1 / arr2"
      ],
      "metadata": {
        "colab": {
          "base_uri": "https://localhost:8080/"
        },
        "id": "y2m8D6Vc_7pe",
        "outputId": "33a58c41-1670-4b7a-c1ab-05ccbbcc9004"
      },
      "execution_count": 72,
      "outputs": [
        {
          "output_type": "execute_result",
          "data": {
            "text/plain": [
              "array([2., 2., 2., 2., 2.])"
            ]
          },
          "metadata": {},
          "execution_count": 72
        }
      ]
    },
    {
      "cell_type": "code",
      "source": [
        "#55.Create a NumPy array `arr1` with integers from 1 to 5 and another array `arr2` with the same numbers\n",
        "#reversed. Calculate the exponentiation of `arr1` raised to the power of `arr2` element-wise.\n",
        "\n",
        "\n",
        "import numpy as np\n",
        "\n",
        "arr1= np.array([1,2,3,4,5])\n",
        "arr2=np.array([5,4,3,2,1])\n",
        "\n",
        "exp_power=np.power(arr1,arr2)\n",
        "\n",
        "print(\"arr1:\",arr1)\n",
        "print(\"arr2\",arr2)\n",
        "print(\"exp_power:\", exp_power)"
      ],
      "metadata": {
        "colab": {
          "base_uri": "https://localhost:8080/"
        },
        "id": "lw2KfgVr_7ke",
        "outputId": "20cb376a-ad3e-4037-864c-aa1142abd8b8"
      },
      "execution_count": 73,
      "outputs": [
        {
          "output_type": "stream",
          "name": "stdout",
          "text": [
            "arr1: [1 2 3 4 5]\n",
            "arr2 [5 4 3 2 1]\n",
            "exp_power: [ 1 16 27 16  5]\n"
          ]
        }
      ]
    },
    {
      "cell_type": "code",
      "source": [
        "#56. Write a function that counts the occurrences of a specific substring within a NumPy array of strings.\n",
        "\n",
        "import numpy as np\n",
        "\n",
        "arr = np.array(['hello', 'world', 'hello', 'numpy', 'hello'])\n",
        "\n",
        "\n",
        "def count_sub_array(arr, substring):\n",
        "\n",
        "    list_arr=arr.tolist()  # convert into list\n",
        "    count=0\n",
        "    for i in list_arr:\n",
        "        if substring in i:\n",
        "            count+=1\n",
        "    return count\n",
        "\n",
        "hello_substring=  count_sub_array(arr, \"hello\")\n",
        "\n",
        "print(\"hello: \" ,hello_substring)\n",
        "\n",
        "world_substring=count_sub_array(arr, \"world\")\n",
        "\n",
        "print(\"world:\", world_substring)\n"
      ],
      "metadata": {
        "colab": {
          "base_uri": "https://localhost:8080/"
        },
        "id": "RyWvOQ9x_7gi",
        "outputId": "5c1e0086-e7e0-477a-f0c6-6b2b771e8a02"
      },
      "execution_count": 74,
      "outputs": [
        {
          "output_type": "stream",
          "name": "stdout",
          "text": [
            "hello:  3\n",
            "world: 1\n"
          ]
        }
      ]
    },
    {
      "cell_type": "code",
      "source": [
        "#57.Write a function that extracts uppercase characters from a NumPy array of strings.\n",
        "\n",
        "\n",
        "import numpy as np\n",
        "\n",
        "arr = np.array(['Hello', 'World', 'OpenAI', 'GPT'])\n",
        "\n",
        "\n",
        "\n",
        "def uppercase_char(arr):\n",
        "    return np.char.upper(arr)\n",
        "\n",
        "uppercase=uppercase_char(arr)\n",
        "print(uppercase)"
      ],
      "metadata": {
        "colab": {
          "base_uri": "https://localhost:8080/"
        },
        "id": "_urJwt9-_7cv",
        "outputId": "7e4ce3e2-a772-49a0-9738-a80d472b428b"
      },
      "execution_count": 75,
      "outputs": [
        {
          "output_type": "stream",
          "name": "stdout",
          "text": [
            "['HELLO' 'WORLD' 'OPENAI' 'GPT']\n"
          ]
        }
      ]
    },
    {
      "cell_type": "code",
      "source": [
        "#58. Write a function that replaces occurrences of a substring in a NumPy array of strings with a new string.\n",
        "\n",
        "\n",
        "import numpy as np\n",
        "\n",
        "\n",
        "\n",
        "def replace_substring(strings, old_substring, new_substring):\n",
        "    strings= np.asarray(strings, dtype=str)\n",
        "    replace_func=np.vectorize(lambda x : x.replace(old_substring, new_substring))\n",
        "    return replace_func(strings)\n",
        "\n",
        "strings = np.array(['apple box', 'banana box', 'grape box', 'pineapple box'])\n",
        "new_string= replace_substring(strings, \"box\",\"pieces\" )\n",
        "\n",
        "print(new_string)"
      ],
      "metadata": {
        "colab": {
          "base_uri": "https://localhost:8080/"
        },
        "id": "tYgnRxoB_7ZP",
        "outputId": "bef77ee7-6164-449f-b98d-0ea5339ed319"
      },
      "execution_count": 76,
      "outputs": [
        {
          "output_type": "stream",
          "name": "stdout",
          "text": [
            "['apple pieces' 'banana pieces' 'grape pieces' 'pineapple pieces']\n"
          ]
        }
      ]
    },
    {
      "cell_type": "code",
      "source": [
        "# 59. Write a function that concatenates strings in a NumPy array element-wise.\n",
        "\n",
        "import numpy as np\n",
        "\n",
        "arr1 = np.array(['Hello', 'World'])\n",
        "arr2 = np.array(['Open', 'AI'])\n",
        "\n",
        "def concatenates(arr1,arr2):\n",
        "    return np.concatenate((arr1,arr2), axis=0)\n",
        "\n",
        "\n",
        "res= concatenates(arr1,arr2)\n",
        "print(res)"
      ],
      "metadata": {
        "colab": {
          "base_uri": "https://localhost:8080/"
        },
        "id": "6FKileAA_7Tw",
        "outputId": "3d589580-4551-4d39-8c04-e003ad001735"
      },
      "execution_count": 77,
      "outputs": [
        {
          "output_type": "stream",
          "name": "stdout",
          "text": [
            "['Hello' 'World' 'Open' 'AI']\n"
          ]
        }
      ]
    },
    {
      "cell_type": "code",
      "source": [
        "#60.Write a function that finds the length of the longest string in a NumPy array.\n",
        "\n",
        "import numpy as np\n",
        "\n",
        "\n",
        "\n",
        "arr = np.array(['apple', 'banana', 'grape', 'pineapple'])\n",
        "\n",
        "\n",
        "def longest_str_lenth(array):\n",
        "\n",
        "    array=np.asarray(array, dtype=str)\n",
        "    string_len=np.vectorize(len)(array)\n",
        "    return np.max(string_len)\n",
        "\n",
        "strings = np.array(['apple', 'banana', 'grape', 'pineapple'])\n",
        "\n",
        "\n",
        "longest_len= longest_str_lenth(strings)\n",
        "print(\"length of the longest string is:\", longest_len)"
      ],
      "metadata": {
        "colab": {
          "base_uri": "https://localhost:8080/"
        },
        "id": "R2dVFDRU_7Qi",
        "outputId": "85938c63-4ddc-46af-b17b-386a1e74715a"
      },
      "execution_count": 78,
      "outputs": [
        {
          "output_type": "stream",
          "name": "stdout",
          "text": [
            "length of the longest string is: 9\n"
          ]
        }
      ]
    },
    {
      "cell_type": "code",
      "source": [
        "#61. Create a dataset of 100 random integers between 1 and 1000. Compute the mean, median, variance, and\n",
        "#standard deviation of the dataset using NumPy's functions.\n",
        "\n",
        "import numpy as np\n",
        "\n",
        "\n",
        "data= np.random.randint(1,1001,100)\n",
        "\n",
        "print(data)\n",
        "print()\n",
        "mean=np.mean(data)\n",
        "print(\"mean:\",mean)\n",
        "\n",
        "median= np.median(data)\n",
        "print(\"median:\", median)\n",
        "\n",
        "variance= np.var(data)\n",
        "print(\"variance:\", variance)\n",
        "\n",
        "std=np.std(data)\n",
        "print(\"standard daviation:\", std)"
      ],
      "metadata": {
        "colab": {
          "base_uri": "https://localhost:8080/"
        },
        "id": "kP00Ai2W_7NE",
        "outputId": "736d89c1-fccb-4c88-df86-e27b602ba2a8"
      },
      "execution_count": 79,
      "outputs": [
        {
          "output_type": "stream",
          "name": "stdout",
          "text": [
            "[845 772 193 862 233 454 344 665 458 308 209 854 565 745 687 636 138 290\n",
            " 948 699 946 207 691 378 256 804 540 259 498   8 202 538 558 920 326 918\n",
            "  65 627 359 703 197 967 700 937 584 940 727 748 617 875 189 766 618 449\n",
            " 237 561 184 435 747 274 296 435 745 784 557 949 508 575 409 523 965 181\n",
            " 725 328 993 828 808 655 280 926 657 502 242 169 437 119  31 418 339 927\n",
            " 490 430 828 950 415 986 643 814 963 333]\n",
            "\n",
            "mean: 556.23\n",
            "median: 559.5\n",
            "variance: 72302.0571\n",
            "standard daviation: 268.8904183863754\n"
          ]
        }
      ]
    },
    {
      "cell_type": "code",
      "source": [
        "#62. Generate an array of 50 random numbers between 1 and 100. Find the 25th and 75th percentiles of the dataset.\n",
        "\n",
        "import numpy as np\n",
        "\n",
        "arr= np.random.randint(1,101,50)\n",
        "print(arr)\n",
        "print()\n",
        "\n",
        "percentiles= np.percentile(arr,[25,75])\n",
        "\n",
        "print('25th percentile:', percentiles[0])\n",
        "print('75th percentile:',percentiles[1])"
      ],
      "metadata": {
        "colab": {
          "base_uri": "https://localhost:8080/"
        },
        "id": "qd952-oo_7Jc",
        "outputId": "9c0f1100-2ad3-49d9-8af8-900b4e42ca40"
      },
      "execution_count": 80,
      "outputs": [
        {
          "output_type": "stream",
          "name": "stdout",
          "text": [
            "[ 41  79  79  92  97  79  70  27   4  39  11   5  14  37  36 100   2  89\n",
            "  25  33  71  78  56  89  87  54   1  58  91  49  13 100  66  16  47  89\n",
            "  81  68  94   1  76   5  33  33  44  96  22  36  60  98]\n",
            "\n",
            "25th percentile: 28.5\n",
            "75th percentile: 80.5\n"
          ]
        }
      ]
    },
    {
      "cell_type": "code",
      "source": [
        "#63.Create two arrays representing two sets of variables. Compute the correlation coefficient between these\n",
        "#arrays using NumPy's `corrcoef` function.\n",
        "\n",
        "import numpy as np\n",
        "\n",
        "a=np.array([1,12,14,16,18,20])\n",
        "b=np.array([21,22,24,26,28,30])\n",
        "\n",
        "corr_coff=np.corrcoef(a,b)[0,1]\n",
        "\n",
        "print(\"correlation coefficien:\",corr_coff)"
      ],
      "metadata": {
        "colab": {
          "base_uri": "https://localhost:8080/"
        },
        "id": "vNKPXFOi_7F0",
        "outputId": "c462301a-6152-44c0-a1a8-4bb4ef84b4aa"
      },
      "execution_count": 81,
      "outputs": [
        {
          "output_type": "stream",
          "name": "stdout",
          "text": [
            "correlation coefficien: 0.8712892542803548\n"
          ]
        }
      ]
    },
    {
      "cell_type": "code",
      "source": [
        "#64.Create two matrices and perform matrix multiplication using NumPy's `dot` function.\n",
        "\n",
        "import numpy as np\n",
        "\n",
        "a=np.array([[1,2,3],[4,5,6]])  # shape(2,3)\n",
        "b=np.array([[1,2],[3,4],[5,6]])  #shape(3,2)\n",
        "\n",
        "\n",
        "c= np.dot(a, b)\n",
        "\n",
        "print(\"matrix a:\")\n",
        "print(a)\n",
        "print(\"matrix b:\")\n",
        "print(b)\n",
        "\n",
        "print(\"matrix multiplication:\")\n",
        "print(c)"
      ],
      "metadata": {
        "colab": {
          "base_uri": "https://localhost:8080/"
        },
        "id": "VZW4oX-l_7Bx",
        "outputId": "87a678da-8706-4cf6-fa4d-e2dfd2b20bbb"
      },
      "execution_count": 82,
      "outputs": [
        {
          "output_type": "stream",
          "name": "stdout",
          "text": [
            "matrix a:\n",
            "[[1 2 3]\n",
            " [4 5 6]]\n",
            "matrix b:\n",
            "[[1 2]\n",
            " [3 4]\n",
            " [5 6]]\n",
            "matrix multiplication:\n",
            "[[22 28]\n",
            " [49 64]]\n"
          ]
        }
      ]
    },
    {
      "cell_type": "code",
      "source": [
        "#65. Create an array of 50 integers between 10 and 1000. Calculate the 10th, 50th (median), and 90th\n",
        "#percentiles along with the first and third quartiles\n",
        "\n",
        "import numpy as np\n",
        "\n",
        "arr=np.random.randint(10,1001,50)\n",
        "\n",
        "#calculate the 10th,50th(mnedian), and 90th percentile\n",
        "p10=np.percentile(arr, 10)\n",
        "p50=np.percentile(arr,50)\n",
        "p90=np.percentile(arr,90)\n",
        "\n",
        "#calculate the first and third quartiles\n",
        "\n",
        "q1=np.percentile(arr,25)\n",
        "q3=np.percentile(arr,75)\n",
        "\n",
        "print('original array:')\n",
        "print(arr)\n",
        "print(\"percentiles and quartiles\")\n",
        "print(\"10th percentile:\", p10)\n",
        "print(\"50th percentile:\",p50)\n",
        "print('90th percentile:',p90)\n",
        "print(\"1st quartiles:\",q1)\n",
        "print(\"3rd qaurtiles:\",q3)"
      ],
      "metadata": {
        "colab": {
          "base_uri": "https://localhost:8080/"
        },
        "id": "3DOLT1wp_6-j",
        "outputId": "f4bfd232-a822-4d33-f2a2-6c00d0f7e7a0"
      },
      "execution_count": 83,
      "outputs": [
        {
          "output_type": "stream",
          "name": "stdout",
          "text": [
            "original array:\n",
            "[878 857 236 936 521 162 678 357 561 326 479 382 131 499 720 601 235 108\n",
            "  44 876 445 187 682 715 875 624 690 818 758 860 475  45 991 739 955 308\n",
            " 137 398 670  67 522  18 593 894 800 495 744 702  85 117]\n",
            "percentiles and quartiles\n",
            "10th percentile: 105.7\n",
            "50th percentile: 541.5\n",
            "90th percentile: 876.2\n",
            "1st quartiles: 254.0\n",
            "3rd qaurtiles: 742.75\n"
          ]
        }
      ]
    },
    {
      "cell_type": "code",
      "source": [
        "#66.Create a NumPy array of integers and find the index of a specific element.\n",
        "\n",
        "import numpy as np\n",
        "\n",
        "arr=np.array([[1,2,3],\n",
        "              [4,5,6,],\n",
        "              [7,8,9]])\n",
        "\n",
        "print(arr)\n",
        "\n",
        "#find the index of 5,4\n",
        "\n",
        "a=np.where(arr==5)\n",
        "print(a)\n",
        "b=np.where(arr==4)\n",
        "print(b)"
      ],
      "metadata": {
        "colab": {
          "base_uri": "https://localhost:8080/"
        },
        "id": "D_-IeZT5_66v",
        "outputId": "d2a629b8-00f4-446d-9f66-789c02c1bb06"
      },
      "execution_count": 84,
      "outputs": [
        {
          "output_type": "stream",
          "name": "stdout",
          "text": [
            "[[1 2 3]\n",
            " [4 5 6]\n",
            " [7 8 9]]\n",
            "(array([1]), array([1]))\n",
            "(array([1]), array([0]))\n"
          ]
        }
      ]
    },
    {
      "cell_type": "code",
      "source": [
        "#67. Generate a random NumPy array and sort it in ascending order\n",
        "\n",
        "import numpy as np\n",
        "\n",
        "arr=np.random.randint(1,10,10)\n",
        "\n",
        "print(arr)\n",
        "\n",
        "#sorted in ascending order\n",
        "sort=np.sort(arr)\n",
        "print(\"after sorted in ascending order:\")\n",
        "print(sort)"
      ],
      "metadata": {
        "colab": {
          "base_uri": "https://localhost:8080/"
        },
        "id": "VbexojNE_63X",
        "outputId": "ea16df3f-a6ed-49eb-de3a-c528b1d576a9"
      },
      "execution_count": 85,
      "outputs": [
        {
          "output_type": "stream",
          "name": "stdout",
          "text": [
            "[2 2 5 9 8 7 7 4 3 3]\n",
            "after sorted in ascending order:\n",
            "[2 2 3 3 4 5 7 7 8 9]\n"
          ]
        }
      ]
    },
    {
      "cell_type": "code",
      "source": [
        "#68. Filter elements >20  in the given NumPy array.\n",
        "\n",
        "\n",
        "import numpy as np\n",
        "\n",
        "arr = np.array([12, 25, 6, 42, 8, 30])\n",
        "\n",
        "#filter elements > 20\n",
        "a= arr[arr > 20]\n",
        "print(a)"
      ],
      "metadata": {
        "colab": {
          "base_uri": "https://localhost:8080/"
        },
        "id": "LnuDL0mS_6z8",
        "outputId": "e541114b-e94c-480f-f421-ef145840fe09"
      },
      "execution_count": 86,
      "outputs": [
        {
          "output_type": "stream",
          "name": "stdout",
          "text": [
            "[25 42 30]\n"
          ]
        }
      ]
    },
    {
      "cell_type": "code",
      "source": [
        "#69. Filter elements which are divisible by 3 from a given NumPy array.\n",
        "\n",
        "import numpy as np\n",
        "\n",
        "arr = np.array([1, 5, 8, 12, 15])\n",
        "\n",
        "for i in arr:\n",
        "    if i %3==0:\n",
        "        print(i)\n",
        "\n",
        "#another method\n",
        "\n",
        "filtered=arr[arr %3==0]\n",
        "\n",
        "print(filtered)"
      ],
      "metadata": {
        "colab": {
          "base_uri": "https://localhost:8080/"
        },
        "id": "KMffsb1A_6ve",
        "outputId": "ec4533f1-6251-46cb-b0e2-d54176df9e71"
      },
      "execution_count": 87,
      "outputs": [
        {
          "output_type": "stream",
          "name": "stdout",
          "text": [
            "12\n",
            "15\n",
            "[12 15]\n"
          ]
        }
      ]
    },
    {
      "cell_type": "code",
      "source": [
        "#70.. Filter elements which are ≥ 20 and ≤ 40 from a given NumPy array.\n",
        "\n",
        "import numpy as np\n",
        "\n",
        "arr = np.array([10, 20, 30, 40, 50])\n",
        "\n",
        "filtered=arr[ (arr >=20) &(arr <=40)]\n",
        "\n",
        "print(filtered)"
      ],
      "metadata": {
        "colab": {
          "base_uri": "https://localhost:8080/"
        },
        "id": "7xCqyqGS_6rQ",
        "outputId": "801e9fdb-32f4-4602-e4ec-1743523fc925"
      },
      "execution_count": 88,
      "outputs": [
        {
          "output_type": "stream",
          "name": "stdout",
          "text": [
            "[20 30 40]\n"
          ]
        }
      ]
    },
    {
      "cell_type": "code",
      "source": [
        "#71.For the given NumPy array, check its byte order using the `dtype` attribute byteorder.\n",
        "\n",
        "import numpy as np\n",
        "\n",
        "arr = np.array([1, 2, 3])\n",
        "\n",
        "print(arr.dtype)\n",
        "\n",
        "#check byteorder of the array\n",
        "\n",
        "byte_order= arr.dtype.byteorder\n",
        "\n",
        "print(\"byte order:\", byte_order)"
      ],
      "metadata": {
        "colab": {
          "base_uri": "https://localhost:8080/"
        },
        "id": "omyFsM-7_6nH",
        "outputId": "f1ba0ada-15b3-4ceb-8bf7-0f7ed3ff3bcf"
      },
      "execution_count": 89,
      "outputs": [
        {
          "output_type": "stream",
          "name": "stdout",
          "text": [
            "int64\n",
            "byte order: =\n"
          ]
        }
      ]
    },
    {
      "cell_type": "code",
      "source": [
        "#72.For the given NumPy array, perform byte swapping in place using `byteswap()`.\n",
        "\n",
        "import numpy as np\n",
        "\n",
        "\n",
        "arr = np.array([1, 2, 3], dtype=np.int32)\n",
        "print(\"original array:\", arr)\n",
        "#performing byteswap in place\n",
        "byteswap=arr.byteswap()\n",
        "print(\"after byteswapping:\",byteswap)"
      ],
      "metadata": {
        "colab": {
          "base_uri": "https://localhost:8080/"
        },
        "id": "vGA3O1Sb_zuc",
        "outputId": "64943a66-0d40-4486-dfc2-41ffc987ea7f"
      },
      "execution_count": 90,
      "outputs": [
        {
          "output_type": "stream",
          "name": "stdout",
          "text": [
            "original array: [1 2 3]\n",
            "after byteswapping: [16777216 33554432 50331648]\n"
          ]
        }
      ]
    },
    {
      "cell_type": "code",
      "source": [
        "#73. For the given NumPy array, swap its byte order without modifying the original array using `newbyteorder()`.\n",
        "\n",
        "import numpy as np\n",
        "\n",
        "\n",
        "arr = np.array([1, 2, 3], dtype=np.int32)\n",
        "\n",
        "#without modifying using newbyteorder()\n",
        "arr2= arr.view(arr.dtype.newbyteorder())\n",
        "\n",
        "print(\"org array:\",arr)\n",
        "print(\"after modify:\", arr2)"
      ],
      "metadata": {
        "colab": {
          "base_uri": "https://localhost:8080/"
        },
        "id": "VGvim20Y_zrG",
        "outputId": "da23cac1-a2ef-4b13-bbb6-d7173e110114"
      },
      "execution_count": 91,
      "outputs": [
        {
          "output_type": "stream",
          "name": "stdout",
          "text": [
            "org array: [1 2 3]\n",
            "after modify: [16777216 33554432 50331648]\n"
          ]
        }
      ]
    },
    {
      "cell_type": "code",
      "source": [
        "#74. For the given NumPy array and swap its byte order conditionally based on system endianness using `newbyteorder()`.\n",
        "\n",
        "import numpy as np\n",
        "\n",
        "arr = np.array([1, 2, 3], dtype=np.int32)\n",
        "\n",
        "#check the system endiannes\n",
        "\n",
        "swapped_arr=arr.newbyteorder('>')  # big-endian\n",
        "print(swapped_arr)"
      ],
      "metadata": {
        "colab": {
          "base_uri": "https://localhost:8080/"
        },
        "id": "Bc64Hu4I_zno",
        "outputId": "14995a12-c53c-414f-cae1-51ded755c8c0"
      },
      "execution_count": 92,
      "outputs": [
        {
          "output_type": "stream",
          "name": "stdout",
          "text": [
            "[16777216 33554432 50331648]\n"
          ]
        }
      ]
    },
    {
      "cell_type": "code",
      "source": [
        "#75. For the given NumPy array, check if byte swapping is necessary for the current system using `dtype` attribute `byteorder`.\n",
        "\n",
        "import numpy as np\n",
        "\n",
        "arr = np.array([1, 2, 3], dtype=np.int32)\n",
        "\n",
        "#checking byte swapping necessary\n",
        "if arr.dtype.byteorder == \"=\":\n",
        "    print(\"No byte swapping is necessary, the array byte native to the system\")\n",
        "elif arr.dtype.byteorder == \"<\":\n",
        "    print(\"byte swapping is necessary bcs its little endian\")\n",
        "elif arr.dtype.byteorder==\">\":\n",
        "    print(\"byte swapping is nexessary bcs its big-endian\")"
      ],
      "metadata": {
        "colab": {
          "base_uri": "https://localhost:8080/"
        },
        "id": "MmmiCRFP_zkS",
        "outputId": "f1155249-1aae-42dc-cf98-65812881dee9"
      },
      "execution_count": 93,
      "outputs": [
        {
          "output_type": "stream",
          "name": "stdout",
          "text": [
            "No byte swapping is necessary, the array byte native to the system\n"
          ]
        }
      ]
    },
    {
      "cell_type": "code",
      "source": [
        "#76.Create a NumPy array `arr1` with values from 1 to 10. Create a copy of `arr1` named `copy_arr` and modify\n",
        "#an element in `copy_arr`. Check if modifying `copy_arr` affects `arr1`\n",
        "\n",
        "import numpy as np\n",
        "\n",
        "#Create a NumPy array `arr1` with values from 1 to 10.\n",
        "arr1= np.array([1,2,3,4,5,6,7,8,9,10])\n",
        "\n",
        "print(\"arr1 values from 1 to 10:\",arr1)\n",
        "#Create a copy of `arr1` named `copy_arr`\n",
        "copy_arr=arr1.copy()\n",
        "print(\"copy of arr1:\",copy_arr)\n",
        "#modifying an element in `copy_arr`\n",
        "modify=copy_arr[2]=50\n",
        "\n",
        "print(\"after modification in copy_arr:\")\n",
        "print(copy_arr)\n",
        "print()\n",
        "\n",
        "print(\"original array after modifying in copy:\")\n",
        "print(arr1)"
      ],
      "metadata": {
        "colab": {
          "base_uri": "https://localhost:8080/"
        },
        "id": "s3Ka8JIy_zg7",
        "outputId": "08e6a1cb-337a-4b63-c8dd-30f6fedc69f7"
      },
      "execution_count": 94,
      "outputs": [
        {
          "output_type": "stream",
          "name": "stdout",
          "text": [
            "arr1 values from 1 to 10: [ 1  2  3  4  5  6  7  8  9 10]\n",
            "copy of arr1: [ 1  2  3  4  5  6  7  8  9 10]\n",
            "after modification in copy_arr:\n",
            "[ 1  2 50  4  5  6  7  8  9 10]\n",
            "\n",
            "original array after modifying in copy:\n",
            "[ 1  2  3  4  5  6  7  8  9 10]\n"
          ]
        }
      ]
    },
    {
      "cell_type": "code",
      "source": [
        "#77. Create a 2D NumPy array `matrix` of shape (3, 3) with random integers. Extract a slice `view_slice` from\n",
        "#the matrix. Modify an element in `view_slice` and observe if it changes the original `matrix`.\n",
        "\n",
        "import numpy as np\n",
        "\n",
        "matrix= np.random.randint(1,10,(3,3))\n",
        "print('original matrix:')\n",
        "print(matrix)\n",
        "print()\n",
        "\n",
        "view_slice= matrix[1:,:1]\n",
        "print(\"view slice:\")\n",
        "print(view_slice)\n",
        "print()\n",
        "\n",
        "#modiy element\n",
        "\n",
        "view_slice[0,0]= 500\n",
        "print('modify view slice:')\n",
        "print(view_slice)\n",
        "print()\n",
        "\n",
        "#checking the original matrix changed or not\n",
        "\n",
        "print(\"checking that,after modify in view slice original matrix:\")\n",
        "print(matrix)"
      ],
      "metadata": {
        "colab": {
          "base_uri": "https://localhost:8080/"
        },
        "id": "LR2Yriwo_zd2",
        "outputId": "d063a8f2-9ac3-40bf-e9c7-526237dfee56"
      },
      "execution_count": 95,
      "outputs": [
        {
          "output_type": "stream",
          "name": "stdout",
          "text": [
            "original matrix:\n",
            "[[4 9 7]\n",
            " [1 6 7]\n",
            " [2 4 1]]\n",
            "\n",
            "view slice:\n",
            "[[1]\n",
            " [2]]\n",
            "\n",
            "modify view slice:\n",
            "[[500]\n",
            " [  2]]\n",
            "\n",
            "checking that,after modify in view slice original matrix:\n",
            "[[  4   9   7]\n",
            " [500   6   7]\n",
            " [  2   4   1]]\n"
          ]
        }
      ]
    },
    {
      "cell_type": "code",
      "source": [
        "#78. Create a NumPy array `array_a` of shape (4, 3) with sequential integers from 1 to 12. Extract a slice\n",
        "#`view_b` from `array_a` and broadcast the addition of 5 to view_b. Check if it alters the original `array_a`\n",
        "\n",
        "import numpy as np\n",
        "\n",
        "array_a= np.array([[1,2,3],[4,5,6],[7,8,9],[10,11,12]])\n",
        "\n",
        "print(\"NumPy array `array_a` of shape (4, 3):\")\n",
        "print(array_a)\n",
        "print()\n",
        "\n",
        "#extract a slice\n",
        "\n",
        "view_b= array_a[2:,:3]\n",
        "print(\"Extracted a slice:\")\n",
        "print(view_b)\n",
        "print()\n",
        "\n",
        "#broadcast the addition of 5 to view_b\n",
        "\n",
        "broadcast= view_b +5\n",
        "print(\"broadcast the addition of 5 to view_b:\")\n",
        "print(broadcast)\n",
        "print()\n",
        "\n",
        "\n",
        "print(\"checking the alters the original `array_a`\")\n",
        "print(array_a)"
      ],
      "metadata": {
        "colab": {
          "base_uri": "https://localhost:8080/"
        },
        "id": "9mLtZhGw_zap",
        "outputId": "3d18d69b-4711-4ee5-ee81-c8bf8663e0c9"
      },
      "execution_count": 96,
      "outputs": [
        {
          "output_type": "stream",
          "name": "stdout",
          "text": [
            "NumPy array `array_a` of shape (4, 3):\n",
            "[[ 1  2  3]\n",
            " [ 4  5  6]\n",
            " [ 7  8  9]\n",
            " [10 11 12]]\n",
            "\n",
            "Extracted a slice:\n",
            "[[ 7  8  9]\n",
            " [10 11 12]]\n",
            "\n",
            "broadcast the addition of 5 to view_b:\n",
            "[[12 13 14]\n",
            " [15 16 17]]\n",
            "\n",
            "checking the alters the original `array_a`\n",
            "[[ 1  2  3]\n",
            " [ 4  5  6]\n",
            " [ 7  8  9]\n",
            " [10 11 12]]\n"
          ]
        }
      ]
    },
    {
      "cell_type": "code",
      "source": [
        "#79.Create a NumPy array `orig_array` of shape (2, 4) with values from 1 to 8. Create a reshaped view\n",
        "#`reshaped_view` of shape (4, 2) from orig_array. Modify an element in `reshaped_view` and check if it\n",
        "#reflects changes in the original `orig_array`\n",
        "\n",
        "import numpy as np\n",
        "\n",
        "arig_array=np.array([[1,2,3,4],[5,6,7,8]])\n",
        "\n",
        "print(\"orig_array` of shape (2, 4) with values from 1 to 8:\")\n",
        "print(arig_array)\n",
        "print()\n",
        "\n",
        "\n",
        "reshape_view= arig_array.reshape(4,2)\n",
        "\n",
        "print(\"create reshaped_view` of shape (4, 2):\")\n",
        "print(reshape_view)\n",
        "print()\n",
        "\n",
        "#Modify an element in `reshaped_view`\n",
        "reshape_view[3,1]=50\n",
        "\n",
        "print(\"reshape_view after modification:\")\n",
        "print(reshape_view)\n",
        "print()\n",
        "\n",
        "#checking reflects changes in the original `orig_array\n",
        "print(\"original arig_array:\")\n",
        "print(arig_array)"
      ],
      "metadata": {
        "colab": {
          "base_uri": "https://localhost:8080/"
        },
        "id": "x6ye_R91_zXC",
        "outputId": "e1b78585-cd31-4f89-d240-2b1a09e4ea76"
      },
      "execution_count": 97,
      "outputs": [
        {
          "output_type": "stream",
          "name": "stdout",
          "text": [
            "orig_array` of shape (2, 4) with values from 1 to 8:\n",
            "[[1 2 3 4]\n",
            " [5 6 7 8]]\n",
            "\n",
            "create reshaped_view` of shape (4, 2):\n",
            "[[1 2]\n",
            " [3 4]\n",
            " [5 6]\n",
            " [7 8]]\n",
            "\n",
            "reshape_view after modification:\n",
            "[[ 1  2]\n",
            " [ 3  4]\n",
            " [ 5  6]\n",
            " [ 7 50]]\n",
            "\n",
            "original arig_array:\n",
            "[[ 1  2  3  4]\n",
            " [ 5  6  7 50]]\n"
          ]
        }
      ]
    },
    {
      "cell_type": "code",
      "source": [
        "# 80. Create a NumPy array `data` of shape (3, 4) with random integers. Extract a copy `data_copy` of\n",
        "#elements greater than 5. Modify an element in `data_copy` and verify if it affects the original `data`.\n",
        "\n",
        "\n",
        "import numpy as np\n",
        "\n",
        "data= np.random.randint(0,20,(3,4))\n",
        "print(\"data:\")\n",
        "print(data)\n",
        "print()\n",
        "#Extract a copy `data_copy` of elements greater than 5.\n",
        "\n",
        "data_copy= data[data.copy()  > 5]\n",
        "print(\"data copy of greater than 5\")\n",
        "print(data_copy)\n",
        "print()\n",
        "\n",
        "#Modify an element in `data_copy`\n",
        "\n",
        "data_copy[2]= 50\n",
        "print(\"after modify the data copy:\")\n",
        "print(data_copy)\n",
        "print()\n",
        "\n",
        "#verify if it affects the original `data\n",
        "print(\"verify if it affects the original `data\")\n",
        "print(\"original data:\")\n",
        "print(data)\n",
        "print()\n",
        "print(\"copy data:\")\n",
        "print(data_copy)"
      ],
      "metadata": {
        "colab": {
          "base_uri": "https://localhost:8080/"
        },
        "id": "AX8jgoc8_zTe",
        "outputId": "f2c9a7a2-c0ac-4d2d-d4d8-550fddc41953"
      },
      "execution_count": 98,
      "outputs": [
        {
          "output_type": "stream",
          "name": "stdout",
          "text": [
            "data:\n",
            "[[ 6 13 10 11]\n",
            " [ 0  2 17  0]\n",
            " [ 6 19  7 10]]\n",
            "\n",
            "data copy of greater than 5\n",
            "[ 6 13 10 11 17  6 19  7 10]\n",
            "\n",
            "after modify the data copy:\n",
            "[ 6 13 50 11 17  6 19  7 10]\n",
            "\n",
            "verify if it affects the original `data\n",
            "original data:\n",
            "[[ 6 13 10 11]\n",
            " [ 0  2 17  0]\n",
            " [ 6 19  7 10]]\n",
            "\n",
            "copy data:\n",
            "[ 6 13 50 11 17  6 19  7 10]\n"
          ]
        }
      ]
    },
    {
      "cell_type": "code",
      "source": [
        "# 81. Create two matrices A and B of identical shape containing integers and perform addition and subtraction operations between them.\n",
        "\n",
        "import numpy as np\n",
        "\n",
        "#Create two matrices A and B of identical shape containing integers\n",
        "a= np.random.randint(1,10,(3,3))\n",
        "b=np.random.randint(1,10,(3,3))\n",
        "\n",
        "print(\"a:\",a)\n",
        "print()\n",
        "print(\"b:\",b)\n",
        "\n",
        "\n",
        "#addition operation:\n",
        "print(\"addition operation between a and b:\")\n",
        "addition= a + b\n",
        "print(addition)\n",
        "\n",
        "#subtraction operation:\n",
        "print(\"subtraction operation between a and b:\")\n",
        "sub= a-b\n",
        "print(sub)"
      ],
      "metadata": {
        "colab": {
          "base_uri": "https://localhost:8080/"
        },
        "id": "fhS1yVTP_zQe",
        "outputId": "0ae014e9-3f36-49fc-939f-02c0296c218d"
      },
      "execution_count": 99,
      "outputs": [
        {
          "output_type": "stream",
          "name": "stdout",
          "text": [
            "a: [[1 7 5]\n",
            " [8 4 3]\n",
            " [4 1 3]]\n",
            "\n",
            "b: [[9 4 1]\n",
            " [8 9 1]\n",
            " [6 5 5]]\n",
            "addition operation between a and b:\n",
            "[[10 11  6]\n",
            " [16 13  4]\n",
            " [10  6  8]]\n",
            "subtraction operation between a and b:\n",
            "[[-8  3  4]\n",
            " [ 0 -5  2]\n",
            " [-2 -4 -2]]\n"
          ]
        }
      ]
    },
    {
      "cell_type": "code",
      "source": [
        "# 82. Generate two matrices `C` (3x2) and `D` (2x4) and perform matrix multiplication\n",
        "\n",
        "import numpy as np\n",
        "\n",
        "c= np.random.randint(1,10,(3,2))  #shape (3,2)\n",
        "d= np.random.randint(1,10,(2,4))    #shape (2,4)\n",
        "\n",
        "print(\"two matrices\")\n",
        "print(\"c:\")\n",
        "print(c)\n",
        "print()\n",
        "print(\"d:\")\n",
        "print(d)\n",
        "print()\n",
        "\n",
        "#perform matrix multiplication\n",
        "print(\"matrix multiplication of c and d:\")\n",
        "\n",
        "matrix_multp=np.dot(c,d)\n",
        "\n",
        "print(matrix_multp)"
      ],
      "metadata": {
        "colab": {
          "base_uri": "https://localhost:8080/"
        },
        "id": "hROO9cCu_zNW",
        "outputId": "eaa2a331-7156-4ca0-bbde-42d24f0a9651"
      },
      "execution_count": 100,
      "outputs": [
        {
          "output_type": "stream",
          "name": "stdout",
          "text": [
            "two matrices\n",
            "c:\n",
            "[[1 6]\n",
            " [9 9]\n",
            " [1 4]]\n",
            "\n",
            "d:\n",
            "[[2 8 9 2]\n",
            " [6 7 1 7]]\n",
            "\n",
            "matrix multiplication of c and d:\n",
            "[[ 38  50  15  44]\n",
            " [ 72 135  90  81]\n",
            " [ 26  36  13  30]]\n"
          ]
        }
      ]
    },
    {
      "cell_type": "code",
      "source": [
        "#83. Create a matrix `E` and find its transpose.\n",
        "\n",
        "import numpy as np\n",
        "\n",
        "\n",
        "#Create a matrix `E`.\n",
        "E= np.random.randint(1,10,(3,3))\n",
        "print(\"E:\")\n",
        "print(E)\n",
        "\n",
        "#find its transpose.\n",
        "\n",
        "transpose=E.T\n",
        "print(\"transpose:\")\n",
        "print(transpose)"
      ],
      "metadata": {
        "colab": {
          "base_uri": "https://localhost:8080/"
        },
        "id": "2SUOe-L6_zJ9",
        "outputId": "76715037-ee7e-491c-f165-bde6f8a6dfc5"
      },
      "execution_count": 101,
      "outputs": [
        {
          "output_type": "stream",
          "name": "stdout",
          "text": [
            "E:\n",
            "[[6 3 5]\n",
            " [9 6 5]\n",
            " [8 3 5]]\n",
            "transpose:\n",
            "[[6 9 8]\n",
            " [3 6 3]\n",
            " [5 5 5]]\n"
          ]
        }
      ]
    },
    {
      "cell_type": "code",
      "source": [
        "#84.Generate a square matrix `F` and compute its determinant.\n",
        "\n",
        "import numpy as np\n",
        "\n",
        "\n",
        "\n",
        "#Generate a square matrix `F`\n",
        "\n",
        "F= np.random.randint(1,11,(3,3))\n",
        "print(\"F:\")\n",
        "print(F)\n",
        "print()\n",
        "\n",
        "#compute its determinant.\n",
        "\n",
        "determinant_F= np.linalg.det(F)\n",
        "print(\"determinant of F:\")\n",
        "print(determinant_F)"
      ],
      "metadata": {
        "colab": {
          "base_uri": "https://localhost:8080/"
        },
        "id": "MiOYvnjl_zG8",
        "outputId": "59ce1387-4b92-4a45-a05a-cf07315ddc46"
      },
      "execution_count": 102,
      "outputs": [
        {
          "output_type": "stream",
          "name": "stdout",
          "text": [
            "F:\n",
            "[[ 2  4 10]\n",
            " [10  7 10]\n",
            " [ 5  3  6]]\n",
            "\n",
            "determinant of F:\n",
            "-66.00000000000003\n"
          ]
        }
      ]
    },
    {
      "cell_type": "code",
      "source": [
        "#85.Create a square matrix `G` and find its inverse\n",
        "\n",
        "import numpy as np\n",
        "\n",
        "G= np.random.randint(1,11,(4,4))\n",
        "\n",
        "# find its inverse\n",
        "\n",
        "inv= np.linalg.inv(G)\n",
        "\n",
        "print(\"G:\")\n",
        "print(G)\n",
        "print()\n",
        "print(\"inverse of G:\")\n",
        "print(inv)"
      ],
      "metadata": {
        "colab": {
          "base_uri": "https://localhost:8080/"
        },
        "id": "RnXB_xcs_zDZ",
        "outputId": "b03d9c24-4b2c-40a7-d6bc-426b8575c422"
      },
      "execution_count": 103,
      "outputs": [
        {
          "output_type": "stream",
          "name": "stdout",
          "text": [
            "G:\n",
            "[[ 3 10 10  6]\n",
            " [ 4  4  4  1]\n",
            " [ 8  7  6  9]\n",
            " [ 3 10  2  6]]\n",
            "\n",
            "inverse of G:\n",
            "[[-0.12557604  0.22119816  0.06451613 -0.00806452]\n",
            " [-0.00806452  0.09677419 -0.09677419  0.13709677]\n",
            " [ 0.125      -0.         -0.         -0.125     ]\n",
            " [ 0.03456221 -0.2718894   0.12903226 -0.01612903]]\n"
          ]
        }
      ]
    },
    {
      "cell_type": "code",
      "source": [],
      "metadata": {
        "id": "TBcoqoyl_zAF"
      },
      "execution_count": null,
      "outputs": []
    },
    {
      "cell_type": "code",
      "source": [],
      "metadata": {
        "id": "Vrx-vd8V_y70"
      },
      "execution_count": null,
      "outputs": []
    },
    {
      "cell_type": "code",
      "source": [],
      "metadata": {
        "id": "wQ9bh8vE_y46"
      },
      "execution_count": null,
      "outputs": []
    },
    {
      "cell_type": "code",
      "source": [],
      "metadata": {
        "id": "w9rVzANR_y2B"
      },
      "execution_count": null,
      "outputs": []
    },
    {
      "cell_type": "code",
      "source": [],
      "metadata": {
        "id": "Ct_HTr6G_ymQ"
      },
      "execution_count": null,
      "outputs": []
    }
  ]
}