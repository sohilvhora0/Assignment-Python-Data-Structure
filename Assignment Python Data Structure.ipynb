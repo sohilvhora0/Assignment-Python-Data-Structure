{
 "cells": [
  {
   "cell_type": "code",
   "execution_count": 3,
   "id": "b51419db-b13f-4581-925d-3978b3e9d962",
   "metadata": {},
   "outputs": [],
   "source": [
    "# 1. Write a code to reverse a string\n",
    "\n",
    "# ans : [::-1]"
   ]
  },
  {
   "cell_type": "code",
   "execution_count": 10,
   "id": "a6ca9008-d134-4793-9a90-43a100240b42",
   "metadata": {},
   "outputs": [],
   "source": [
    "#  Write a code to count the number of vowels in a string\n",
    "\n",
    "def count_vowels(input_string):\n",
    "    # Define a set of vowels\n",
    "    vowels = {'a', 'e', 'i', 'o', 'u', 'A', 'E', 'I', 'O', 'U'}\n",
    "    # Initialize a counter for vowels\n",
    "    vowel_count = 0\n",
    "    # Iterate through each character in the string\n",
    "    for char in input_string:\n",
    "        # Check if the character is a vowel\n",
    "        if char in vowels:\n",
    "            vowel_count += 1\n",
    "    return vowel_count"
   ]
  },
  {
   "cell_type": "code",
   "execution_count": 29,
   "id": "77919de2-0a69-497e-97a8-a0af7ba2b9a6",
   "metadata": {},
   "outputs": [
    {
     "name": "stdin",
     "output_type": "stream",
     "text": [
      "enter string saras\n"
     ]
    },
    {
     "name": "stdout",
     "output_type": "stream",
     "text": [
      "the string is palindrome\n"
     ]
    }
   ],
   "source": [
    "#3. Write a code to check if a given string is a palindrome or not\n",
    "a = input(\"enter string\")\n",
    "\n",
    "if (a == a[::-1]):\n",
    "        print(\"the string is palindrome\")\n",
    "else:\n",
    "        print(\"the string is not a palindrome\")"
   ]
  },
  {
   "cell_type": "code",
   "execution_count": 1,
   "id": "a0c1cdcc-1b59-4fbe-997f-a34d409fc824",
   "metadata": {},
   "outputs": [
    {
     "name": "stdout",
     "output_type": "stream",
     "text": [
      "Strings are anagrams\n"
     ]
    }
   ],
   "source": [
    "# 4. Write a code to check if two given strings are anagrams of each other\n",
    "\n",
    "def are_anagrams(str1, str2):\n",
    "    # Remove spaces and convert both strings to lowercase\n",
    "    str1 = str1.replace(\" \", \"\").lower()\n",
    "    str2 = str2.replace(\" \", \"\").lower()\n",
    "\n",
    "    # Check if the lengths of both strings are equal\n",
    "    if len(str1) != len(str2):\n",
    "        return False\n",
    "\n",
    "    # Sort both strings and compare if they are equal\n",
    "    return sorted(str1) == sorted(str2)\n",
    "\n",
    "# Example usage\n",
    "string1 = \"listen\"\n",
    "string2 = \"silent\"\n",
    "if are_anagrams(string1, string2):\n",
    "    print(\"Strings are anagrams\")\n",
    "else:\n",
    "    print(\"Strings are not anagrams\")"
   ]
  },
  {
   "cell_type": "code",
   "execution_count": 2,
   "id": "6f2d8f9a-fe80-41d7-9f51-95307acf2b46",
   "metadata": {},
   "outputs": [
    {
     "name": "stdout",
     "output_type": "stream",
     "text": [
      "Occurrences of 'hello' in 'hello world hello':\n",
      "[0, 12]\n"
     ]
    }
   ],
   "source": [
    "# 5. Write a code to find all occurrences of a given substring within another string\n",
    "\n",
    "\n",
    "def find_all_occurrences(main_string, substring):\n",
    "    occurrences = []\n",
    "    start_index = 0\n",
    "\n",
    "    while True:\n",
    "        index = main_string.find(substring, start_index)\n",
    "        if index == -1:\n",
    "            break\n",
    "        occurrences.append(index)\n",
    "        start_index = index + 1\n",
    "\n",
    "    return occurrences\n",
    "\n",
    "# Example\n",
    "main_string = \"hello world hello\"\n",
    "substring = \"hello\"\n",
    "print(\"Occurrences of '{}' in '{}':\".format(substring, main_string))\n",
    "print(find_all_occurrences(main_string, substring))"
   ]
  },
  {
   "cell_type": "code",
   "execution_count": 16,
   "id": "2b30cebc-78fa-434b-b32b-107077db186f",
   "metadata": {},
   "outputs": [
    {
     "name": "stdout",
     "output_type": "stream",
     "text": [
      "1\n",
      "2\n"
     ]
    }
   ],
   "source": [
    "#.6  Write a code to perform basic string compression using the counts of repeated characters\n",
    "\n",
    "test_str = \"pwskills\"\n",
    "count = 0\n",
    "\n",
    "for i in test_str:\n",
    "    if i == \"l\":\n",
    "        count = count+1\n",
    "        print(str(count))"
   ]
  },
  {
   "cell_type": "code",
   "execution_count": 25,
   "id": "765874a2-4f9f-4963-8101-62df42589d52",
   "metadata": {},
   "outputs": [
    {
     "name": "stdout",
     "output_type": "stream",
     "text": [
      "String 'abcdefg' has all unique characters.\n"
     ]
    }
   ],
   "source": [
    "#.7  Write a code to determine if a string has all unique characters\n",
    "\n",
    "def has_unique_characters(s):\n",
    "    \n",
    "    seen = set()\n",
    "    \n",
    "    \n",
    "\n",
    "    for char in s:\n",
    "        \n",
    "        if char in seen:\n",
    "            return False\n",
    "        \n",
    "        seen.add(char)\n",
    "    \n",
    "        return True\n",
    "\n",
    "# Example\n",
    "test_string = \"abcdefg\"\n",
    "if has_unique_characters(test_string):\n",
    "    print(\"String '{}' has all unique characters.\".format(test_string))\n",
    "else:\n",
    "    print(\"String '{}' does not have all unique characters.\".format(test_string))"
   ]
  },
  {
   "cell_type": "code",
   "execution_count": 29,
   "id": "cd263317-6361-48ef-95f9-1ee55c2360c2",
   "metadata": {},
   "outputs": [
    {
     "data": {
      "text/plain": [
       "'pwskills'"
      ]
     },
     "execution_count": 29,
     "metadata": {},
     "output_type": "execute_result"
    }
   ],
   "source": [
    "#.8  Write a code to convert a given string to uppercase or lowercase\n",
    "\n",
    "a = \"PWSKILLS\"\n",
    "\n",
    "str.lower(a)"
   ]
  },
  {
   "cell_type": "code",
   "execution_count": 34,
   "id": "b78d015b-c33c-4fb7-9292-2d680b46b72b",
   "metadata": {},
   "outputs": [
    {
     "name": "stdin",
     "output_type": "stream",
     "text": [
      "Enter Word: hello world\n"
     ]
    },
    {
     "name": "stdout",
     "output_type": "stream",
     "text": [
      "2\n"
     ]
    }
   ],
   "source": [
    "# .9  Write a code to count the number of words in a string ++++\n",
    "\n",
    "print(len(input(\"Enter Word:\").split()))"
   ]
  },
  {
   "cell_type": "code",
   "execution_count": 42,
   "id": "63161af9-915d-470a-8a7a-28d53d44a23e",
   "metadata": {},
   "outputs": [
    {
     "name": "stdout",
     "output_type": "stream",
     "text": [
      "sohil vhora\n"
     ]
    }
   ],
   "source": [
    "# .10 Write a code to concatenate two strings without using the + operator \n",
    "\n",
    "a = \"sohil\"\n",
    "b = \"vhora\"\n",
    "\n",
    "print(a,b)"
   ]
  },
  {
   "cell_type": "code",
   "execution_count": 43,
   "id": "65eab3dd-7a68-48ef-a98c-63f20e29a825",
   "metadata": {},
   "outputs": [
    {
     "name": "stdout",
     "output_type": "stream",
     "text": [
      "[3, 4, 6, 5]\n"
     ]
    }
   ],
   "source": [
    "# .11  Write a code to remove all occurrences of a specific element from a list\n",
    "\n",
    "test_list = [1, 3, 4, 6, 5, 1] \n",
    "ele=1\n",
    "a=list(map(str,test_list)) \n",
    "b=\" \".join(a) \n",
    "b=b.replace(str(ele),\"\") \n",
    "b=b.split() \n",
    "x=list(map(int,b)) \n",
    "print(x)"
   ]
  },
  {
   "cell_type": "code",
   "execution_count": 44,
   "id": "57493370-21ad-401e-9d86-037094de8b7d",
   "metadata": {},
   "outputs": [
    {
     "name": "stdout",
     "output_type": "stream",
     "text": [
      "Second largest no. is: 25\n"
     ]
    }
   ],
   "source": [
    "# .12  Implement a code to find the second largest number in a given list of integers\n",
    "\n",
    "list1 = [10,22,25,4,99]\n",
    "list1.sort()\n",
    "print(\"Second largest no. is:\",sorted(list1)[-2])"
   ]
  },
  {
   "cell_type": "code",
   "execution_count": 46,
   "id": "0f16c4e6-ce8a-4103-8506-d7fbc3b5d4d1",
   "metadata": {},
   "outputs": [],
   "source": [
    "#.13 Create a code to count the occurrences of each element in a list and return a dictionary with elements as keys and their counts as values++++\n",
    "\n",
    "def count_occurrences(lst):\n",
    "    \n",
    "    count_dict = {}\n",
    "    \n",
    "    \n",
    "    for element in lst:\n",
    "        \n",
    "        if element in count_dict:\n",
    "            count_dict[element] += 1\n",
    "        \n",
    "        else:\n",
    "            count_dict[element] = 1\n",
    "    \n",
    "    return count_dict\n",
    "\n",
    "example_list = [1, 2, 2, 3, 3, 3, 4, 4, 4, 4]\n",
    "result = count_occurrences(example_list)\n",
    "print(result)\n",
    "\n"
   ]
  },
  {
   "cell_type": "code",
   "execution_count": 6,
   "id": "0d06dc00-c9df-40c8-ad3a-076558a46ada",
   "metadata": {},
   "outputs": [
    {
     "name": "stdout",
     "output_type": "stream",
     "text": [
      "[15, 14, 13, 12, 11, 10]\n"
     ]
    }
   ],
   "source": [
    "#.14  Write a code to reverse a list in-place without using any built-in reverse functions\n",
    "\n",
    "list1 = [10,11,12,13,14,15]\n",
    "\n",
    "reversed_list = list1[::-1]\n",
    "print(reversed_list) "
   ]
  },
  {
   "cell_type": "code",
   "execution_count": 9,
   "id": "be39191e-1849-4ddf-abd4-22323d50fba1",
   "metadata": {},
   "outputs": [
    {
     "name": "stdout",
     "output_type": "stream",
     "text": [
      "final list is:[1, 2, 3, 5, 6, 7, 8, 9]\n"
     ]
    }
   ],
   "source": [
    "#.15  Implement a code to find and remove duplicates from a list while preserving the original order of elements\n",
    "\n",
    "list1 = [1,2,3,5,3,2,6,7,8,1,9]\n",
    "\n",
    "list1 = list(set(list1))\n",
    "print(\"final list is:\" + str(list1))"
   ]
  },
  {
   "cell_type": "code",
   "execution_count": 11,
   "id": "01c86eb0-bcd5-4db6-acb4-bac8b89f2157",
   "metadata": {},
   "outputs": [
    {
     "name": "stdout",
     "output_type": "stream",
     "text": [
      "list is not sorted\n"
     ]
    }
   ],
   "source": [
    "# .16  Create a code to check if a given list is sorted (either in ascending or descending order) or not\n",
    "\n",
    "list_1 = [9,3,5,7,9,11]\n",
    "\n",
    "if list_1 == sorted(list_1):\n",
    "    print(\"list is sorted\")\n",
    "else:\n",
    "    print(\"list is not sorted\")"
   ]
  },
  {
   "cell_type": "code",
   "execution_count": 17,
   "id": "61dd4e87-c712-491b-a5c9-a74f3e49d715",
   "metadata": {},
   "outputs": [
    {
     "name": "stdout",
     "output_type": "stream",
     "text": [
      "[1, 2, 3, 4, 5, 6, 7, 8, 9, 10]\n"
     ]
    }
   ],
   "source": [
    "# .17  Write a code to merge two sorted lists into a single sorted list\n",
    "\n",
    "list_2 = [1,3,5,7,9]\n",
    "list_3 = [2,4,6,8,10]\n",
    "\n",
    "com_list = sorted(list_2 + list_3)\n",
    "print(com_list)"
   ]
  },
  {
   "cell_type": "code",
   "execution_count": 19,
   "id": "d45dfcaa-7fae-48ba-8fa2-2fc915386c0d",
   "metadata": {},
   "outputs": [
    {
     "name": "stdout",
     "output_type": "stream",
     "text": [
      "[11, 17, 99]\n"
     ]
    }
   ],
   "source": [
    "# .18  Implement a code to find the intersection of two given lists\n",
    "\n",
    "list_1 = [11,15,17,21,23,99]\n",
    "list_2 = [16,11,99,22,3,55,17]\n",
    "\n",
    "def intersection(list_1,list_2):\n",
    "    list_3 = [value for value in list_1 if value in list_2]\n",
    "    return list_3\n",
    "\n",
    "print(intersection(list_1,list_2))"
   ]
  },
  {
   "cell_type": "code",
   "execution_count": 20,
   "id": "0385ff4b-46e3-43ab-8397-b49f49eb8b6b",
   "metadata": {},
   "outputs": [
    {
     "name": "stdout",
     "output_type": "stream",
     "text": [
      "[1, 2, 3, 4, 5, 6, 7, 8, 9]\n"
     ]
    }
   ],
   "source": [
    "# .19  Create a code to find the union of two lists without duplicates\n",
    "\n",
    "lst1 = [5,7,3,2,4,9]\n",
    "lst2 = [1,3,5,7,6,8]\n",
    "\n",
    "set1 = set(lst1)\n",
    "set2 = set(lst2)\n",
    "\n",
    "ans = list(set1.union(set2))\n",
    "print(ans)"
   ]
  },
  {
   "cell_type": "code",
   "execution_count": 29,
   "id": "afe1eaa1-9918-4210-9be8-0bee78c1c2b2",
   "metadata": {},
   "outputs": [
    {
     "name": "stdout",
     "output_type": "stream",
     "text": [
      "The shuffled list is : [5, 1, 9, 4, 7]\n"
     ]
    }
   ],
   "source": [
    "# .20  Write a code to shuffle a given list randomly without using any built-in shuffle functions\n",
    "\n",
    "import random\n",
    "\n",
    "list1 = [1,4,7,5,9]\n",
    "\n",
    "random.shuffle(list1)\n",
    "\n",
    "print(\"The shuffled list is : \" + str(list1))"
   ]
  },
  {
   "cell_type": "code",
   "execution_count": 35,
   "id": "8575972e-444d-4bdf-8c61-ccffbb20e06d",
   "metadata": {},
   "outputs": [
    {
     "name": "stdout",
     "output_type": "stream",
     "text": [
      "[(4, 7), (7, 4), (4, 8), (8, 4), (5, 7), (7, 5), (5, 8), (8, 5)]\n"
     ]
    }
   ],
   "source": [
    "#.21 Write a code that takes two tuples as input and returns a new tuple containing elements that are common to both input tuples\n",
    "\n",
    "tuple1 = (4, 5)\n",
    "tuple2 = (7, 8)\n",
    "\n",
    "\n",
    "filtered_tuples = []\n",
    "\n",
    "\n",
    "for element1 in tuple1:\n",
    "\tfor element2 in tuple2:\n",
    "\t\tfiltered_tuples.append((element1, element2))\n",
    "\t\tfiltered_tuples.append((element2, element1))\n",
    "print(filtered_tuples)"
   ]
  },
  {
   "cell_type": "code",
   "execution_count": 1,
   "id": "a358e05c-b592-4674-8b83-102aaae5476f",
   "metadata": {},
   "outputs": [],
   "source": [
    "# .22  Create a code that prompts the user to enter two sets of integers separated by commas. Then, print the intersection of these two sets\n",
    "\n",
    "def get_set_from_input(prompt):\n",
    "    \"\"\"Prompts the user for a set of integers and returns a set.\"\"\"\n",
    "    user_input = input(prompt)\n",
    "    \n",
    "    try:\n",
    "        int_list = [int(item.strip()) for item in user_input.split(',')]\n",
    "    except ValueError:\n",
    "        print(\"Invalid input. Please enter integers separated by commas.\")\n",
    "        return set()\n",
    "    \n",
    "    \n",
    "    return set(int_list)\n",
    "\n",
    "def main():\n",
    "    set1 = get_set_from_input(\"Enter the first set of integers (separated by commas): \")\n",
    "    set2 = get_set_from_input(\"Enter the second set of integers (separated by commas): \")\n",
    "    \n",
    "    intersection = set1 & set2\n",
    "    \n",
    "    print(\"Intersection of the two sets:\", intersection)\n",
    "\n",
    "if __name__ == \"__main__\":\n",
    "    main()\n"
   ]
  },
  {
   "cell_type": "code",
   "execution_count": 2,
   "id": "8ce59add-3e8e-45f1-9d98-fc1a7b8efae8",
   "metadata": {},
   "outputs": [
    {
     "name": "stdout",
     "output_type": "stream",
     "text": [
      "(1, 2, 3, 4, 5, 6)\n"
     ]
    }
   ],
   "source": [
    "# .23  Write a code to concatenate two tuples. The function should take two tuples as input and return a new tuple containing elements from both input tuples.\n",
    "\n",
    "tup_1 = (1,2,3)\n",
    "tup_2=(4,5,6)\n",
    "\n",
    "tup_3=((tup_1)+(tup_2))\n",
    "\n",
    "print(tup_3)"
   ]
  },
  {
   "cell_type": "code",
   "execution_count": 3,
   "id": "f7833c33-23e8-4278-8963-f9416293ac67",
   "metadata": {},
   "outputs": [],
   "source": [
    "# .24 Develop a code that prompts the user to input two sets of strings. Then, print the elements that are present in the first set but not in the second set\n",
    "def get_set_from_input(prompt):\n",
    "    \"\"\"Prompts the user for a set of strings and returns a set.\"\"\"\n",
    "    \n",
    "    user_input = input(prompt)\n",
    "    \n",
    "    \n",
    "    str_list = [item.strip() for item in user_input.split(',')]\n",
    "    \n",
    "    return set(str_list)\n",
    "\n",
    "def main():\n",
    "    \n",
    "    set1 = get_set_from_input(\"Enter the first set of strings (separated by commas): \")\n",
    "    set2 = get_set_from_input(\"Enter the second set of strings (separated by commas): \")\n",
    "    \n",
    "    \n",
    "    difference = set1 - set2\n",
    "    \n",
    "    \n",
    "    print(\"Elements in the first set but not in the second set:\", difference)\n",
    "\n",
    "if __name__ == \"__main__\":\n",
    "    main()\n"
   ]
  },
  {
   "cell_type": "code",
   "execution_count": 5,
   "id": "0251c6c6-ba24-4bcd-a2fa-6a4d03e4ba96",
   "metadata": {},
   "outputs": [],
   "source": [
    "# .25 Create a code that takes a tuple and two integers as input. The function should return a new tuple containing elements from the original tuple within the specified range of indices\n",
    "\n",
    "def slice_tuple(tpl, start, end):\n",
    "    \n",
    "    if not isinstance(tpl, tuple):\n",
    "        raise TypeError(\"The first argument must be a tuple.\")\n",
    "    if not (isinstance(start, int) and isinstance(end, int)):\n",
    "        raise TypeError(\"The second and third arguments must be integers.\")\n",
    "    if start < 0 or end > len(tpl) or start > end:\n",
    "        raise ValueError(\"Invalid index range. Ensure 0 <= start <= end <= length of the tuple.\")"
   ]
  },
  {
   "cell_type": "code",
   "execution_count": 8,
   "id": "d9d241d7-3e95-45ab-95d2-2c9acc079ca4",
   "metadata": {},
   "outputs": [
    {
     "name": "stdin",
     "output_type": "stream",
     "text": [
      "enter first character pw\n",
      "enter second character skills\n"
     ]
    },
    {
     "name": "stdout",
     "output_type": "stream",
     "text": [
      "pwskills\n"
     ]
    }
   ],
   "source": [
    "# .26  Write a code that prompts the user to input two sets of characters. Then, print the union of these two sets\n",
    "\n",
    "set_1=input(\"enter first character\")\n",
    "set_2=input(\"enter second character\")\n",
    "print((set_1) + (set_2))"
   ]
  },
  {
   "cell_type": "code",
   "execution_count": 11,
   "id": "4b6adcc6-39fc-46da-ad86-b87601ff7199",
   "metadata": {},
   "outputs": [
    {
     "name": "stdout",
     "output_type": "stream",
     "text": [
      "Maximum value: 15\n",
      "Minimum value: 2\n"
     ]
    }
   ],
   "source": [
    "# .27  Develop a code that takes a tuple of integers as input. The function should return the maximum and minimum values from the tuple using tuple unpacking\n",
    "\n",
    "def find_max_min(nums):\n",
    "    if not nums:\n",
    "        return None, None\n",
    "\n",
    "    max_num = min_num = nums[0]\n",
    "\n",
    "    for num in nums[1:]:\n",
    "        if num > max_num:\n",
    "            max_num = num\n",
    "        elif num < min_num:\n",
    "            min_num = num\n",
    "\n",
    "    return max_num, min_num\n",
    "\n",
    "tuple_1 = (15,7,9,11,2,3)\n",
    "max_value, min_value = find_max_min(tuple_1)\n",
    "print(\"Maximum value:\", max_value)\n",
    "print(\"Minimum value:\", min_value)"
   ]
  },
  {
   "cell_type": "code",
   "execution_count": 18,
   "id": "8fd3f304-382c-4741-942a-9c09fe08d396",
   "metadata": {},
   "outputs": [
    {
     "name": "stdout",
     "output_type": "stream",
     "text": [
      "union: {1, 2, 3, 4, 5, 6, 7, 8, 9, 10}\n",
      "Intersection: {8, 2, 3, 6}\n",
      "Difference: {1, 4, 9, 7}\n"
     ]
    }
   ],
   "source": [
    "# .28  Create a code that defines two sets of integers. Then, print the union, intersection, and difference of these two sets\n",
    "\n",
    "a = {1,2,3,7,4,9,8,6}\n",
    "b = {2,6,5,3,10,8,6}\n",
    "\n",
    "# union\n",
    "print(\"union:\", a|b)\n",
    "\n",
    "# intersection\n",
    "print(\"Intersection:\" ,a&b)\n",
    "\n",
    "# difference\n",
    "print(\"Difference:\",a-b)"
   ]
  },
  {
   "cell_type": "code",
   "execution_count": 19,
   "id": "364fce9e-d4dc-4ebc-90d8-d10374d23898",
   "metadata": {},
   "outputs": [],
   "source": [
    "# .29  Write a code that takes a tuple and an element as input. The function should return the count of occurrences of the given element in the tuple\n",
    "\n",
    "def count_element_in_tuple(tpl, element):\n",
    "    if not isinstance(tpl, tuple):\n",
    "        raise TypeError(\"The first argument must be a tuple.\")\n",
    "    \n",
    "    return tpl.count(element)"
   ]
  },
  {
   "cell_type": "code",
   "execution_count": 20,
   "id": "5f9c87d6-4626-4246-8c73-86e66d73bc50",
   "metadata": {},
   "outputs": [
    {
     "name": "stdout",
     "output_type": "stream",
     "text": [
      "{'p', 'd', 'k', 'b', 'a'}\n"
     ]
    }
   ],
   "source": [
    "# .30  Develop a code that prompts the user to input two sets of strings. Then, print the symmetric difference of these two sets\n",
    "\n",
    "a= {\"p\",\"w\",\"s\",\"k\",\"i\",\"l\"}\n",
    "b= {\"l\",\"s\",\"w\",\"i\",\"a\",\"b\",\"d\"}\n",
    "\n",
    "print(a.symmetric_difference(b))"
   ]
  },
  {
   "cell_type": "code",
   "execution_count": 21,
   "id": "69502d63-cc39-4c96-9778-509dff2f438a",
   "metadata": {},
   "outputs": [],
   "source": [
    "# .31  Write a code that takes a list of words as input and returns a dictionary where the keys are unique words and the values are the frequencies of those words in the input list\n",
    "\n",
    "def count_word_frequencies(word_list):\n",
    "    frequency_dict = {}\n",
    "    for word in word_list:\n",
    "        if word in frequency_dict:\n",
    "            frequency_dict[word] += 1\n",
    "        else:\n",
    "            frequency_dict[word] = 1\n",
    "    return frequency_dict"
   ]
  },
  {
   "cell_type": "code",
   "execution_count": 26,
   "id": "749f9b6c-9e41-437c-ba26-cf579b6292e5",
   "metadata": {},
   "outputs": [
    {
     "name": "stdout",
     "output_type": "stream",
     "text": [
      "{'a': 15, 'b': 18, 'c': 27}\n"
     ]
    }
   ],
   "source": [
    "# .32  Write a code that takes two dictionaries as input and merges them into a single dictionary. If there are common keys, the values should be added together\n",
    "\n",
    "dict1 = {'a': 5 , 'b': 7, 'c':15}\n",
    "dict2 = {'a':10,'b':11,'c':12}\n",
    "\n",
    "for key in dict2:\n",
    "\tif key in dict1:\n",
    "\t\tdict2[key] = dict2[key] + dict1[key]\n",
    "\telse:\n",
    "\t\tpass\n",
    "\t\t\n",
    "print(dict2)"
   ]
  },
  {
   "cell_type": "code",
   "execution_count": 4,
   "id": "a2401c92-9a04-4aa8-b058-a45ded81dd83",
   "metadata": {},
   "outputs": [],
   "source": [
    "# .33 Write a code that takes two dictionaries as input and merges them into a single dictionary. If there are common keys, the values should be added together\n",
    "\n",
    "def merge_and_sum_dicts(dict1, dict2):\n",
    "    merged_dict = {}\n",
    "    for key, value in dict1.items():\n",
    "        if key in merged_dict:\n",
    "            merged_dict[key] += value\n",
    "        else:\n",
    "            merged_dict[key] = value\n",
    "            \n",
    "    for key, value in dict2.items():\n",
    "        if key in merged_dict:\n",
    "            merged_dict[key] += value\n",
    "        else:\n",
    "            merged_dict[key] = value\n",
    "\n",
    "    return merged_dict\n",
    "\n",
    "dict1 = {'a': 10, 'b': 20, 'c': 30}\n",
    "dict2 = {'b': 15, 'c': 25, 'd': 40}"
   ]
  },
  {
   "cell_type": "code",
   "execution_count": 5,
   "id": "ad3e5e3d-57ad-40ab-a205-77a298fa87d4",
   "metadata": {},
   "outputs": [],
   "source": [
    "# .33  Write a code to access a value in a nested dictionary. The function should take the dictionary and a list of keys as input, and return the corresponding value. If any of the keys do not exist in the dictionary, the function should return None\n",
    "\n",
    "def access_nested_value(d, keys):\n",
    "    current_value = d\n",
    "    for key in keys:\n",
    "        if isinstance(current_value, dict) and key in current_value:\n",
    "            current_value = current_value[key]\n",
    "        else:\n",
    "            return None\n",
    "    return current_value"
   ]
  },
  {
   "cell_type": "code",
   "execution_count": 7,
   "id": "f68514ce-8b02-4131-8ba0-5a79edcb8269",
   "metadata": {},
   "outputs": [
    {
     "name": "stdout",
     "output_type": "stream",
     "text": [
      "Ascending order: {'banana': 1, 'cherry': 2, 'apple': 3}\n",
      "Descending order: {'apple': 3, 'cherry': 2, 'banana': 1}\n"
     ]
    }
   ],
   "source": [
    "# .34 Write a code that takes a dictionary as input and returns a sorted version of it based on the values. You can choose whether to sort in ascending or descending order\n",
    "\n",
    "def sort_dict_by_values(d, descending=False):\n",
    "    \n",
    "    sorted_dict = dict(sorted(d.items(), key=lambda item: item[1], reverse=descending))\n",
    "    return sorted_dict\n",
    "\n",
    "example_dict = {'apple': 3, 'banana': 1, 'cherry': 2}\n",
    "print(\"Ascending order:\", sort_dict_by_values(example_dict))\n",
    "print(\"Descending order:\", sort_dict_by_values(example_dict, descending=True))"
   ]
  },
  {
   "cell_type": "code",
   "execution_count": 8,
   "id": "f7cbbe6a-9233-47a7-913a-6a086c316f05",
   "metadata": {},
   "outputs": [
    {
     "name": "stdout",
     "output_type": "stream",
     "text": [
      "Inverted dictionary: {1: ['apple', 'cherry'], 2: ['banana']}\n"
     ]
    }
   ],
   "source": [
    "# .35 Write a code that inverts a dictionary, swapping keys and values. Ensure that the inverted dictionary correctly handles cases where multiple keys have the same value by storing the keys as a list in the inverted dictionary.\n",
    "\n",
    "def invert_dict(d):\n",
    "    \n",
    "    inverted_dict = {}\n",
    "\n",
    "    for key, value in d.items():\n",
    "        if value not in inverted_dict:\n",
    "            inverted_dict[value] = [key]  # Initialize with a list containing the key\n",
    "        else:\n",
    "            inverted_dict[value].append(key)  # Append the key to the existing list\n",
    "\n",
    "    return inverted_dict\n",
    "\n",
    "example_dict = {'apple': 1, 'banana': 2, 'cherry': 1}\n",
    "inverted = invert_dict(example_dict)\n",
    "print(\"Inverted dictionary:\", inverted)"
   ]
  },
  {
   "cell_type": "code",
   "execution_count": null,
   "id": "f2f7243e-55e5-4932-8d14-81a56b6466c9",
   "metadata": {},
   "outputs": [],
   "source": []
  }
 ],
 "metadata": {
  "kernelspec": {
   "display_name": "Python 3 (ipykernel)",
   "language": "python",
   "name": "python3"
  },
  "language_info": {
   "codemirror_mode": {
    "name": "ipython",
    "version": 3
   },
   "file_extension": ".py",
   "mimetype": "text/x-python",
   "name": "python",
   "nbconvert_exporter": "python",
   "pygments_lexer": "ipython3",
   "version": "3.10.8"
  }
 },
 "nbformat": 4,
 "nbformat_minor": 5
}
